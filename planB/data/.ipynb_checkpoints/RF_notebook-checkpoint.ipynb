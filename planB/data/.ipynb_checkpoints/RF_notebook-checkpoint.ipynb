{
 "cells": [
  {
   "cell_type": "code",
   "execution_count": 1,
   "id": "d2ad6510",
   "metadata": {},
   "outputs": [],
   "source": [
    "import pandas as pd\n",
    "import numpy as np\n",
    "import matplotlib.pyplot as plt\n",
    "from sklearn.preprocessing import OneHotEncoder\n",
    "from sklearn.ensemble import RandomForestRegressor\n",
    "from sklearn.model_selection import cross_val_score, train_test_split\n",
    "from sklearn.model_selection import RandomizedSearchCV\n",
    "from scipy.stats import randint\n",
    "from sklearn.inspection import permutation_importance\n",
    "from sklearn.metrics import mean_squared_error\n",
    "import shap\n",
    "\n",
    "data = pd.read_csv('final_cleaned_dummy_data.csv').drop(columns=['Unnamed: 0', 'index'])\n",
    "data_li = pd.read_csv('lowIncomeFilteredData.csv').drop(columns=['Unnamed: 0', 'Unnamed: 0.1'])"
   ]
  },
  {
   "cell_type": "markdown",
   "id": "dc9a3804",
   "metadata": {},
   "source": [
    "Creating Dummy Variables in Low Income Data, Dropping Burden Outliers, Instantiating MSE List"
   ]
  },
  {
   "cell_type": "code",
   "execution_count": 2,
   "id": "35a156e4",
   "metadata": {},
   "outputs": [],
   "source": [
    "# use one hot encoding to convert categorical variables into series of binary variables\n",
    "non_binary_cat_vars = ['ACPRIMARY','BLD','COOKFUEL','DIVISION','HEATFUEL',\\\n",
    "                       'HEATTYPE','HHRACE','HOTWATER','TENURE']\n",
    "\n",
    "cat_df = data_li[non_binary_cat_vars].copy(deep=True)\n",
    "\n",
    "enc = OneHotEncoder()\n",
    "enc.fit(cat_df)\n",
    "onehotlabels = enc.transform(cat_df).toarray()\n",
    "one_hot_df = pd.DataFrame(onehotlabels, columns=enc.get_feature_names_out())\n",
    "\n",
    "# recombine dataframes\n",
    "final_data_li = pd.concat([one_hot_df,data_li.drop(columns=non_binary_cat_vars)], axis=1)\n",
    "\n",
    "data.drop(data.loc[data['HINCP']==0].index, inplace=True)\n",
    "\n",
    "data.drop(data.loc[data['BURDEN']>1.3068144].index, inplace=True)\n",
    "data.drop(data.loc[data['BURDEN']<=0].index, inplace=True)\n",
    "#data.drop(data.loc[data['BURDEN']<=0.0070588235].index, inplace=True) #5th percentile\n",
    "\n",
    "final_data_li.drop(final_data_li.loc[final_data_li['BURDEN']>1.3068144].index, inplace=True)\n",
    "final_data_li.drop(final_data_li.loc[final_data_li['BURDEN']<=0].index, inplace=True)\n",
    "\n",
    "final_data_li.drop(final_data_li.loc[final_data_li['HINCP']==0].index, inplace=True)\n",
    "\n",
    "mses = [[0,0] for i in range(6)]"
   ]
  },
  {
   "cell_type": "markdown",
   "id": "a61f7cb4",
   "metadata": {},
   "source": [
    "Run only one of the six cells below, depending on desired model configuration"
   ]
  },
  {
   "cell_type": "markdown",
   "id": "3febc466",
   "metadata": {},
   "source": [
    "Random Forest 1: Both Urban and Rural, All Income"
   ]
  },
  {
   "cell_type": "code",
   "execution_count": 3,
   "id": "621efd13",
   "metadata": {},
   "outputs": [],
   "source": [
    "# select features, set target, split test set\n",
    "features_all = data.drop(columns=['HINCP','OTHERAMT','GASAMT','OILAMT',\\\n",
    "                                  'ELECAMT','NUMPEOPLE','METRO','BURDEN'])\n",
    "target = data['BURDEN']\n",
    "X, X_test, y, y_test = train_test_split(features_all, target, random_state = 1, test_size = .2)\n",
    "config = 1"
   ]
  },
  {
   "cell_type": "markdown",
   "id": "9defe8a0",
   "metadata": {},
   "source": [
    "Random Forest 2: Urban, All Income"
   ]
  },
  {
   "cell_type": "code",
   "execution_count": 19,
   "id": "59373c2a",
   "metadata": {},
   "outputs": [],
   "source": [
    "# select features, set target, split test set\n",
    "features_all_urban = data[data.URBAN==1].drop(columns=['HINCP','OTHERAMT','GASAMT','OILAMT','ELECAMT',\\\n",
    "                                                       'NUMPEOPLE','METRO','BURDEN','URBAN'])\n",
    "target = data[data.URBAN==1]['BURDEN']\n",
    "X, X_test, y, y_test = train_test_split(features_all_urban, target, random_state = 1, test_size = .2)\n",
    "config = 2"
   ]
  },
  {
   "cell_type": "markdown",
   "id": "5a286792",
   "metadata": {},
   "source": [
    "Random Forest 3: Rural, All Income"
   ]
  },
  {
   "cell_type": "code",
   "execution_count": 12,
   "id": "116633c5",
   "metadata": {},
   "outputs": [],
   "source": [
    "# select features, set target, split test set\n",
    "features_all_rural = data[data.URBAN==0].drop(columns=['HINCP','OTHERAMT','GASAMT','OILAMT','ELECAMT',\\\n",
    "                                                       'NUMPEOPLE','METRO','BURDEN','URBAN'])\n",
    "target = data[data.URBAN==0]['BURDEN']\n",
    "X, X_test, y, y_test = train_test_split(features_all_rural, target, random_state = 1, test_size = .2)\n",
    "config = 3"
   ]
  },
  {
   "cell_type": "markdown",
   "id": "6e521779",
   "metadata": {},
   "source": [
    "Random Forest 4: Both Urban and Rural, Low Income"
   ]
  },
  {
   "cell_type": "code",
   "execution_count": 14,
   "id": "7cc09a95",
   "metadata": {},
   "outputs": [],
   "source": [
    "# select features, set target, split test set\n",
    "features_all_li = final_data_li.drop(columns=['HINCP','OTHERAMT','GASAMT','OILAMT','ELECAMT','NUMPEOPLE',\\\n",
    "                                              'METRO','BURDEN','HHAGE','NUMKIDS', 'POVTHRESH', 'LITHRESH'])\n",
    "target = final_data_li['BURDEN']\n",
    "X, X_test, y, y_test = train_test_split(features_all_li, target, random_state = 1, test_size = .2)\n",
    "config = 4"
   ]
  },
  {
   "cell_type": "markdown",
   "id": "4153e8dc",
   "metadata": {},
   "source": [
    "Random Forest 5: Urban, Low Income"
   ]
  },
  {
   "cell_type": "code",
   "execution_count": 8,
   "id": "8183838d",
   "metadata": {},
   "outputs": [],
   "source": [
    "# select features, set target, split test set\n",
    "features_all_urban_li = final_data_li[final_data_li.URBAN==1]\\\n",
    "                        .drop(columns=['HINCP','OTHERAMT','GASAMT','OILAMT','ELECAMT','NUMPEOPLE',\\\n",
    "                                       'METRO','BURDEN','HHAGE','NUMKIDS', 'POVTHRESH', 'LITHRESH','URBAN'])\n",
    "target = final_data_li[final_data_li.URBAN==1]['BURDEN']\n",
    "X, X_test, y, y_test = train_test_split(features_all_urban_li, target, random_state = 1, test_size = .2)\n",
    "config = 5"
   ]
  },
  {
   "cell_type": "markdown",
   "id": "2d28291b",
   "metadata": {},
   "source": [
    "Random Forest 6: Rural, Low Income"
   ]
  },
  {
   "cell_type": "code",
   "execution_count": 3,
   "id": "0256de35",
   "metadata": {},
   "outputs": [],
   "source": [
    "# select features, set target, split test set\n",
    "features_all_rural_li = final_data_li[final_data_li.URBAN==0]\\\n",
    "                        .drop(columns=['HINCP','OTHERAMT','GASAMT','OILAMT','ELECAMT','NUMPEOPLE',\\\n",
    "                                       'METRO','BURDEN','HHAGE','NUMKIDS', 'POVTHRESH', 'LITHRESH','URBAN'])\n",
    "target = final_data_li[final_data_li.URBAN==0]['BURDEN']\n",
    "X, X_test, y, y_test = train_test_split(features_all_rural_li, target, random_state = 1, test_size = .2)\n",
    "config = 6"
   ]
  },
  {
   "cell_type": "markdown",
   "id": "1e931c8a",
   "metadata": {},
   "source": [
    "After running one of the six cells above to choose features and output, continue below."
   ]
  },
  {
   "cell_type": "code",
   "execution_count": 4,
   "id": "bddd7e57",
   "metadata": {},
   "outputs": [],
   "source": [
    "# split between train and validation sets\n",
    "X_train, X_val, y_train, y_val = train_test_split(X, y, random_state = 1, test_size = 0.2)\n",
    "\n",
    "# instantiate random forest regressor\n",
    "rf_tree = RandomForestRegressor()\n",
    "rf_tree.fit(X_train, y_train)\n",
    "\n",
    "# set parameter distribution for random search CV\n",
    "\n",
    "# param_dist_rf = {'n_estimators': randint(10, 100),\n",
    "#               'max_leaf_nodes': randint(3, 100),\n",
    "#               'max_features': [\"auto\"],\n",
    "#               'max_depth': randint(1, 10),\n",
    "#               'min_samples_leaf': randint(1, 30),\n",
    "#               'min_samples_split': randint(2, 20)}\n",
    "param_dist_rf = {'n_estimators': randint(1, 2500),\n",
    "              'max_leaf_nodes': randint(3, 200),\n",
    "              'max_features': [\"auto\"],\n",
    "              'max_depth': randint(1, 50),\n",
    "              'min_samples_leaf': randint(1, 40),\n",
    "              'min_samples_split': randint(2, 40)}"
   ]
  },
  {
   "cell_type": "markdown",
   "id": "0d750d65",
   "metadata": {},
   "source": [
    "The following cell will take the longest to run. If it takes too long, alter params above or n_iter keyword in the RandomizedSearchCV() call."
   ]
  },
  {
   "cell_type": "code",
   "execution_count": 5,
   "id": "2c74234f",
   "metadata": {},
   "outputs": [
    {
     "name": "stdout",
     "output_type": "stream",
     "text": [
      "{'max_depth': 29, 'max_features': 'auto', 'max_leaf_nodes': 35, 'min_samples_leaf': 33, 'min_samples_split': 11, 'n_estimators': 1238}\n",
      "Train Score:  0.7910260589585212\n",
      "Validation Score:  -0.1413476984764006\n"
     ]
    }
   ],
   "source": [
    "rnd_search_rf = RandomizedSearchCV(rf_tree, param_distributions=param_dist_rf, cv=10, n_iter=1)\n",
    "# default n_iter = 200 for data lab\n",
    "\n",
    "rnd_search_rf.fit(X_train, y_train)\n",
    "\n",
    "print(rnd_search_rf.best_params_)\n",
    "\n",
    "# fit tree with best parameters\n",
    "rf_tree.set_params(max_leaf_nodes=rnd_search_rf.best_params_['max_leaf_nodes'], \n",
    "                    n_estimators=rnd_search_rf.best_params_['n_estimators'], \n",
    "                    max_features = rnd_search_rf.best_params_['max_features'],\n",
    "                    max_depth = rnd_search_rf.best_params_['max_depth'],\n",
    "                    min_samples_leaf = rnd_search_rf.best_params_['min_samples_leaf'],\n",
    "                    min_samples_split = rnd_search_rf.best_params_['min_samples_split'])\n",
    "\n",
    "# These scores carry no meaning for the random forest regressor, but will still print out\n",
    "rf_train_score = rf_tree.score(X_train, y_train)\n",
    "rf_val_score = rf_tree.score(X_val, y_val)\n",
    "print('Train Score: ', rf_train_score)\n",
    "print('Validation Score: ', rf_val_score)"
   ]
  },
  {
   "cell_type": "markdown",
   "id": "bf38a97f",
   "metadata": {},
   "source": [
    "Built-In Feature Importance"
   ]
  },
  {
   "cell_type": "code",
   "execution_count": 58,
   "id": "681b1123",
   "metadata": {},
   "outputs": [
    {
     "name": "stdout",
     "output_type": "stream",
     "text": [
      "Feature ranking:\n",
      "0. YRBUILT (0.160470)\n",
      "1. UNITSIZE (0.096357)\n",
      "2. NUMELDERS (0.040533)\n",
      "3. FIREPLACE (0.031630)\n",
      "4. NUMOLDKIDS (0.028411)\n",
      "5. COOKFUEL_2 (0.023036)\n",
      "6. HEATTYPE_1 (0.021207)\n",
      "7. DIVISION_5 (0.021032)\n",
      "8. COOKFUEL_1 (0.021002)\n",
      "9. DIVISION_7 (0.019653)\n",
      "10. HOTWATER_1 (0.019357)\n",
      "11. ACPRIMARY_1 (0.018790)\n",
      "12. DIVISION_8 (0.018774)\n",
      "13. HOTWATER_2 (0.018720)\n",
      "14. HEATFUEL_2 (0.018540)\n",
      "15. NUMYNGKIDS (0.017110)\n",
      "16. HEATFUEL_1 (0.016974)\n",
      "17. BLD_6 (0.016535)\n",
      "18. URBAN (0.016386)\n",
      "19. DIVISION_3 (0.016379)\n",
      "20. HHRACE_2.0 (0.016149)\n",
      "21. HEATTYPE_3 (0.015763)\n",
      "22. BLD_7 (0.015330)\n",
      "23. TENURE_1.0 (0.015180)\n",
      "24. DIVISION_9 (0.014407)\n",
      "25. BLD_2 (0.013331)\n",
      "26. ACPRIMARY_0 (0.012960)\n",
      "27. HEATTYPE_5 (0.012771)\n",
      "28. ACPRIMARY_4 (0.012629)\n",
      "29. BLD_1 (0.011045)\n",
      "30. DIVISION_2 (0.010726)\n",
      "31. HEATTYPE_2 (0.010169)\n",
      "32. HHRACE_1.0 (0.010033)\n",
      "33. BLD_3 (0.010006)\n",
      "34. BLD_5 (0.009652)\n",
      "35. BLD_9 (0.009593)\n",
      "36. DIVISION_6 (0.009516)\n",
      "37. TENURE_2.0 (0.009140)\n",
      "38. DIVISION_1 (0.009135)\n",
      "39. BLD_8 (0.009054)\n",
      "40. HEATTYPE_4 (0.008685)\n",
      "41. HEATTYPE_8 (0.008534)\n",
      "42. BLD_4 (0.008198)\n",
      "43. DIVISION_4 (0.007861)\n",
      "44. ACPRIMARY_5 (0.007739)\n",
      "45. HHRACE_4.0 (0.007587)\n",
      "46. SOLAR (0.006938)\n",
      "47. ACPRIMARY_7 (0.006162)\n",
      "48. TENURE_0.0 (0.005924)\n",
      "49. ACPRIMARY_2 (0.005872)\n",
      "50. HHRACE_3.0 (0.005640)\n",
      "51. ACPRIMARY_6 (0.005635)\n",
      "52. COOKFUEL_3 (0.005594)\n",
      "53. HOTWATER_3 (0.005269)\n",
      "54. HEATFUEL_3 (0.004611)\n",
      "55. HOTWATER_4 (0.003333)\n",
      "56. HEATFUEL_4 (0.003071)\n",
      "57. HEATTYPE_7 (0.002274)\n",
      "58. COOKFUEL_0 (0.002016)\n",
      "59. HEATTYPE_6 (0.001582)\n",
      "60. HEATFUEL_5 (0.001450)\n",
      "61. HHRACE_6.0 (0.001296)\n",
      "62. HEATTYPE_9 (0.001238)\n",
      "63. HEATTYPE_12 (0.001185)\n",
      "64. HEATFUEL_7 (0.001116)\n",
      "65. HOTWATER_0 (0.001103)\n",
      "66. HOTWATER_5 (0.000618)\n",
      "67. HEATTYPE_11 (0.000593)\n",
      "68. HHRACE_5.0 (0.000318)\n",
      "69. HEATTYPE_13 (0.000234)\n",
      "70. HEATTYPE_0 (0.000232)\n",
      "71. HEATFUEL_0 (0.000190)\n",
      "72. HEATTYPE_10 (0.000121)\n",
      "73. ACPRIMARY_3 (0.000110)\n",
      "74. HEATFUEL_6 (0.000074)\n",
      "75. HOTWATER_6 (0.000044)\n",
      "76. COOKFUEL_4 (0.000029)\n",
      "77. HEATFUEL_8 (0.000022)\n",
      "78. HEATFUEL_9 (0.000015)\n"
     ]
    },
    {
     "data": {
      "text/plain": [
       "<Figure size 640x480 with 0 Axes>"
      ]
     },
     "metadata": {},
     "output_type": "display_data"
    }
   ],
   "source": [
    "importances = rf_tree.feature_importances_\n",
    "std = np.std([tree.feature_importances_ for tree in rf_tree.estimators_],\n",
    "              axis=0)\n",
    "indices = np.argsort(importances)[::-1]\n",
    "\n",
    "# Print the feature ranking\n",
    "print(\"Feature ranking:\")\n",
    "\n",
    "feat_imp = []\n",
    "for f in range(X.shape[1]):\n",
    "    print(\"%d. %s (%f)\" % (f, X.columns[indices[f]], importances[indices[f]]))\n",
    "    feat_imp.append((X.columns[indices[f]], importances[indices[f]]))\n",
    "    \n",
    "feat_df = pd.DataFrame(feat_imp, columns=['Feature','Importance'])\n",
    "feat_df.set_index('Feature',inplace=True)\n",
    "feat_df.to_csv('rf_out/feat_importance/built_in_importances_{}.csv'.format(str(config)))\n",
    "feat_df = feat_df.T\n",
    "\n",
    "# Plot the feature importances of the forest\n",
    "plt.figure()\n",
    "plt.title(\"Feature Importances\")\n",
    "plt.bar(range(X.shape[1]), importances[indices],\n",
    "        color=\"r\", yerr=std[indices], align=\"center\")\n",
    "plt.savefig('rf_out/figs/feat_imp/built_in_feature_importance_{}.png'.format(str(config)),dpi=300)\n",
    "plt.clf()"
   ]
  },
  {
   "cell_type": "markdown",
   "id": "a6bf2fe4",
   "metadata": {},
   "source": [
    "Residuals"
   ]
  },
  {
   "cell_type": "code",
   "execution_count": 6,
   "id": "71dc74e5",
   "metadata": {},
   "outputs": [
    {
     "data": {
      "text/plain": [
       "<Figure size 432x288 with 0 Axes>"
      ]
     },
     "metadata": {},
     "output_type": "display_data"
    }
   ],
   "source": [
    "resid_df = pd.DataFrame(y-rf_tree.predict(X))\n",
    "resid_df.to_csv('rf_out/residuals/residuals_{}.csv'.format(str(config)))\n",
    "plt.scatter(np.arange(len(y)),y-rf_tree.predict(X))\n",
    "plt.savefig('rf_out/residuals/figs/residuals_{}.png'.format(str(config)),dpi=300)\n",
    "plt.clf()\n",
    "plt.scatter(np.arange(len(y)),np.sort(y-rf_tree.predict(X)))\n",
    "plt.savefig('rf_out/residuals/figs/residuals_sorted_{}.png'.format(str(config)),dpi=300)\n",
    "plt.clf()"
   ]
  },
  {
   "cell_type": "markdown",
   "id": "1df64db9",
   "metadata": {},
   "source": [
    "New Test Residuals"
   ]
  },
  {
   "cell_type": "code",
   "execution_count": 24,
   "id": "6e57e090",
   "metadata": {},
   "outputs": [
    {
     "data": {
      "text/plain": [
       "<Figure size 432x288 with 0 Axes>"
      ]
     },
     "metadata": {},
     "output_type": "display_data"
    }
   ],
   "source": [
    "resid_df = pd.DataFrame(y-rf_tree.predict(X))\n",
    "#resid_df.to_csv('rf_out/residuals/residuals_{}.csv'.format(str(config)))\n",
    "plt.scatter(data.loc[resid_df.index]['HINCP'].tolist(),y-rf_tree.predict(X))\n",
    "plt.xlim(-20000,1000000)\n",
    "plt.savefig('rf_out/residuals/figs/new_residuals_{}_income.png'.format(str(config)),dpi=300)\n",
    "plt.clf()\n",
    "plt.scatter(data.loc[resid_df.index]['BURDEN'].tolist(),y-rf_tree.predict(X))\n",
    "#plt.xlim(-20000,1000000)\n",
    "plt.savefig('rf_out/residuals/figs/new_residuals_{}_true_burden.png'.format(str(config)),dpi=300)\n",
    "plt.clf()"
   ]
  },
  {
   "cell_type": "markdown",
   "id": "12752200",
   "metadata": {},
   "source": [
    "Permutation Importance (may take a long time to run)"
   ]
  },
  {
   "cell_type": "code",
   "execution_count": 60,
   "id": "4fc0aff1",
   "metadata": {
    "scrolled": true
   },
   "outputs": [
    {
     "data": {
      "image/png": "[encoded data removed]",
      "text/plain": [
       "<Figure size 640x480 with 1 Axes>"
      ]
     },
     "metadata": {},
     "output_type": "display_data"
    }
   ],
   "source": [
    "plt.rcParams.update(plt.rcParamsDefault)\n",
    "plt.rcParams['font.size'] = 3\n",
    "perm_importance = permutation_importance(rf_tree, X_test, y_test)\n",
    "sorted_idx = perm_importance.importances_mean.argsort()\n",
    "perm_df = pd.DataFrame(perm_importance.importances_mean[sorted_idx],\\\n",
    "                       index=X.columns[sorted_idx],columns=['Importance'])\n",
    "perm_df.sort_values(by='Importance',ascending=False).to_csv('rf_out/feat_importance/permutation_importance_{}.csv'.format(str(config)))\n",
    "plt.barh(X.columns[sorted_idx], perm_importance.importances_mean[sorted_idx])\n",
    "plt.xlabel(\"Permutation Importance\")\n",
    "plt.savefig('rf_out/figs/feat_imp/permutation_importance/permutation_importance_{}.png'\\\n",
    "                .format(str(config)),dpi=300)\n",
    "plt.rcParams.update(plt.rcParamsDefault)"
   ]
  },
  {
   "cell_type": "markdown",
   "id": "30c323d7",
   "metadata": {},
   "source": [
    "Shapley Values (may take a long time to run)"
   ]
  },
  {
   "cell_type": "code",
   "execution_count": 28,
   "id": "fc694ec9",
   "metadata": {},
   "outputs": [
    {
     "data": {
      "image/png": "[encoded data removed]",
      "text/plain": [
       "<Figure size 576x684 with 2 Axes>"
      ]
     },
     "metadata": {
      "needs_background": "light"
     },
     "output_type": "display_data"
    }
   ],
   "source": [
    "explainer = shap.TreeExplainer(rf_tree)\n",
    "shap_values = explainer.shap_values(X_test)\n",
    "shap_abs = np.abs(shap_values)\n",
    "shap_df = pd.DataFrame(shap_abs.mean(axis=0),columns=['Shapley Value'])\n",
    "shap_df['Feature'] = X.columns[shap_df.index]\n",
    "shap_df.sort_values(by='Shapley Value',ascending=False, inplace=True)\n",
    "shap_df = shap_df.reset_index().drop(columns=['index']).set_index(shap_df.Feature).drop(columns=['Feature'])\n",
    "shap_df.to_csv('rf_out/feat_importance/shapley_{}.csv'.format(str(config)))\n",
    "shap.summary_plot(shap_values, X_test, plot_type=\"bar\",show=False)\n",
    "plt.savefig('rf_out/figs/feat_imp/shapley/shapley_bar_{}.png'\\\n",
    "                .format(str(config)),dpi=300, bbox_inches='tight')\n",
    "plt.clf()\n",
    "shap.summary_plot(shap_values, X_test,show=False)\n",
    "plt.savefig('rf_out/figs/feat_imp/shapley/shapley_jitter_{}.png'\\\n",
    "                .format(str(config)),dpi=300, bbox_inches='tight')\n",
    "\n",
    "# max_display keyword in summary_plot call changes # of features shown on plot"
   ]
  },
  {
   "cell_type": "markdown",
   "id": "8834b208",
   "metadata": {},
   "source": [
    "Mean Squared Error (after running this cell, go back and rerun a new configuration until all 6 are run)"
   ]
  },
  {
   "cell_type": "code",
   "execution_count": 29,
   "id": "3ef5044f",
   "metadata": {},
   "outputs": [
    {
     "name": "stdout",
     "output_type": "stream",
     "text": [
      "Test MSE is: 0.014102181472967271\n",
      "Val MSE is: 0.015473347771014735\n"
     ]
    }
   ],
   "source": [
    "mse_test = mean_squared_error(y_test,rf_tree.predict(X_test))\n",
    "mse_val = mean_squared_error(y_val,rf_tree.predict(X_val))\n",
    "print('Test MSE is:',mse_test)\n",
    "print('Val MSE is:',mse_val)\n",
    "\n",
    "mses[config-1][0] = mse_test\n",
    "mses[config-1][1] = mse_val"
   ]
  },
  {
   "cell_type": "code",
   "execution_count": null,
   "id": "2eeccf4e",
   "metadata": {},
   "outputs": [],
   "source": [
    "# When all 6 configurations are finished, run this cell to output the MSEs\n",
    "mse_df = pd.DataFrame(mses, index=['Config 1','Config 2','Config 3','Config 4','Config 5','Config 6'],\\\n",
    "                     columns=['Test MSE','Val MSE'])\n",
    "mse_df.to_csv('rf_out/mses.csv')"
   ]
  },
  {
   "cell_type": "code",
   "execution_count": 30,
   "id": "57af447c",
   "metadata": {},
   "outputs": [
    {
     "data": {
      "text/plain": [
       "[[0.014102181472967271, 0.015473347771014735],\n",
       " [0.01403466852907128, 0.01622432649346168],\n",
       " [0, 0],\n",
       " [0.05249471650615692, 0.053664771171501514],\n",
       " [0.06985521562120621, 0.0560476871617279],\n",
       " [0.03454332492375711, 0.034300776159672]]"
      ]
     },
     "execution_count": 30,
     "metadata": {},
     "output_type": "execute_result"
    }
   ],
   "source": [
    "mses"
   ]
  },
  {
   "cell_type": "code",
   "execution_count": null,
   "id": "76396d28",
   "metadata": {},
   "outputs": [],
   "source": []
  }
 ],
 "metadata": {
  "kernelspec": {
   "display_name": "Python 3 (ipykernel)",
   "language": "python",
   "name": "python3"
  },
  "language_info": {
   "codemirror_mode": {
    "name": "ipython",
    "version": 3
   },
   "file_extension": ".py",
   "mimetype": "text/x-python",
   "name": "python",
   "nbconvert_exporter": "python",
   "pygments_lexer": "ipython3",
   "version": "3.8.8"
  }
 },
 "nbformat": 4,
 "nbformat_minor": 5
}
