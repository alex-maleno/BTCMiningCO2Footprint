{
 "cells": [
  {
   "cell_type": "code",
   "execution_count": 42,
   "id": "d2ad6510",
   "metadata": {},
   "outputs": [],
   "source": [
    "import pandas as pd\n",
    "import numpy as np\n",
    "import matplotlib.pyplot as plt\n",
    "from sklearn.preprocessing import OneHotEncoder\n",
    "from sklearn.ensemble import RandomForestRegressor\n",
    "from sklearn.model_selection import cross_val_score, train_test_split\n",
    "from sklearn.model_selection import RandomizedSearchCV\n",
    "from scipy.stats import randint\n",
    "from sklearn.inspection import permutation_importance\n",
    "from sklearn.metrics import mean_squared_error\n",
    "import shap\n",
    "\n",
    "data = pd.read_csv('final_cleaned_dummy_data.csv').drop(columns=['Unnamed: 0', 'index'])\n",
    "data_li = pd.read_csv('lowIncomeFilteredData.csv').drop(columns=['Unnamed: 0', 'Unnamed: 0.1'])"
   ]
  },
  {
   "cell_type": "markdown",
   "id": "dc9a3804",
   "metadata": {},
   "source": [
    "Creating Dummy Variables in Low Income Data, Dropping Burden Outliers, Instantiating MSE List"
   ]
  },
  {
   "cell_type": "code",
   "execution_count": 43,
   "id": "35a156e4",
   "metadata": {},
   "outputs": [],
   "source": [
    "# use one hot encoding to convert categorical variables into series of binary variables\n",
    "non_binary_cat_vars = ['ACPRIMARY','BLD','COOKFUEL','DIVISION','HEATFUEL',\\\n",
    "                       'HEATTYPE','HHRACE','HOTWATER','TENURE']\n",
    "\n",
    "cat_df = data_li[non_binary_cat_vars].copy(deep=True)\n",
    "\n",
    "enc = OneHotEncoder()\n",
    "enc.fit(cat_df)\n",
    "onehotlabels = enc.transform(cat_df).toarray()\n",
    "one_hot_df = pd.DataFrame(onehotlabels, columns=enc.get_feature_names_out())\n",
    "\n",
    "# recombine dataframes\n",
    "final_data_li = pd.concat([one_hot_df,data_li.drop(columns=non_binary_cat_vars)], axis=1)\n",
    "\n",
    "data.drop(data.loc[data['HINCP']==0].index, inplace=True)\n",
    "\n",
    "data.drop(data.loc[data['BURDEN']>1.3068144].index, inplace=True)\n",
    "data.drop(data.loc[data['BURDEN']<=0].index, inplace=True)\n",
    "#data.drop(data.loc[data['BURDEN']<=0.0070588235].index, inplace=True) #5th percentile\n",
    "\n",
    "final_data_li.drop(final_data_li.loc[final_data_li['BURDEN']>1.3068144].index, inplace=True)\n",
    "final_data_li.drop(final_data_li.loc[final_data_li['BURDEN']<=0].index, inplace=True)\n",
    "\n",
    "final_data_li.drop(final_data_li.loc[final_data_li['HINCP']==0].index, inplace=True)\n",
    "\n",
    "mses = [[0,0] for i in range(6)]"
   ]
  },
  {
   "cell_type": "markdown",
   "id": "a61f7cb4",
   "metadata": {},
   "source": [
    "Run only one of the six cells below, depending on desired model configuration"
   ]
  },
  {
   "cell_type": "markdown",
   "id": "3febc466",
   "metadata": {},
   "source": [
    "Random Forest 1: Both Urban and Rural, All Income"
   ]
  },
  {
   "cell_type": "code",
   "execution_count": 84,
   "id": "621efd13",
   "metadata": {},
   "outputs": [],
   "source": [
    "# select features, set target, split test set\n",
    "features_all = data.drop(columns=['HINCP','OTHERAMT','GASAMT','OILAMT',\\\n",
    "                                  'ELECAMT','NUMPEOPLE','METRO','BURDEN'])\n",
    "target = data['BURDEN']\n",
    "X, X_test, y, y_test = train_test_split(features_all, target, random_state = 1, test_size = .2)\n",
    "config = 1"
   ]
  },
  {
   "cell_type": "markdown",
   "id": "9defe8a0",
   "metadata": {},
   "source": [
    "Random Forest 2: Urban, All Income"
   ]
  },
  {
   "cell_type": "code",
   "execution_count": 3,
   "id": "59373c2a",
   "metadata": {},
   "outputs": [],
   "source": [
    "# select features, set target, split test set\n",
    "features_all_urban = data[data.URBAN==1].drop(columns=['HINCP','OTHERAMT','GASAMT','OILAMT','ELECAMT',\\\n",
    "                                                       'NUMPEOPLE','METRO','BURDEN','URBAN'])\n",
    "target = data[data.URBAN==1]['BURDEN']\n",
    "X, X_test, y, y_test = train_test_split(features_all_urban, target, random_state = 1, test_size = .2)\n",
    "config = 2"
   ]
  },
  {
   "cell_type": "markdown",
   "id": "5a286792",
   "metadata": {},
   "source": [
    "Random Forest 3: Rural, All Income"
   ]
  },
  {
   "cell_type": "code",
   "execution_count": 12,
   "id": "116633c5",
   "metadata": {},
   "outputs": [],
   "source": [
    "# select features, set target, split test set\n",
    "features_all_rural = data[data.URBAN==0].drop(columns=['HINCP','OTHERAMT','GASAMT','OILAMT','ELECAMT',\\\n",
    "                                                       'NUMPEOPLE','METRO','BURDEN','URBAN'])\n",
    "target = data[data.URBAN==0]['BURDEN']\n",
    "X, X_test, y, y_test = train_test_split(features_all_rural, target, random_state = 1, test_size = .2)\n",
    "config = 3"
   ]
  },
  {
   "cell_type": "markdown",
   "id": "6e521779",
   "metadata": {},
   "source": [
    "Random Forest 4: Both Urban and Rural, Low Income"
   ]
  },
  {
   "cell_type": "code",
   "execution_count": 24,
   "id": "7cc09a95",
   "metadata": {},
   "outputs": [],
   "source": [
    "# select features, set target, split test set\n",
    "features_all_li = final_data_li.drop(columns=['HINCP','OTHERAMT','GASAMT','OILAMT','ELECAMT','NUMPEOPLE',\\\n",
    "                                              'METRO','BURDEN','HHAGE','NUMKIDS', 'POVTHRESH', 'LITHRESH'])\n",
    "target = final_data_li['BURDEN']\n",
    "X, X_test, y, y_test = train_test_split(features_all_li, target, random_state = 1, test_size = .2)\n",
    "config = 4"
   ]
  },
  {
   "cell_type": "markdown",
   "id": "4153e8dc",
   "metadata": {},
   "source": [
    "Random Forest 5: Urban, Low Income"
   ]
  },
  {
   "cell_type": "code",
   "execution_count": 34,
   "id": "8183838d",
   "metadata": {},
   "outputs": [],
   "source": [
    "# select features, set target, split test set\n",
    "features_all_urban_li = final_data_li[final_data_li.URBAN==1]\\\n",
    "                        .drop(columns=['HINCP','OTHERAMT','GASAMT','OILAMT','ELECAMT','NUMPEOPLE',\\\n",
    "                                       'METRO','BURDEN','HHAGE','NUMKIDS', 'POVTHRESH', 'LITHRESH','URBAN'])\n",
    "target = final_data_li[final_data_li.URBAN==1]['BURDEN']\n",
    "X, X_test, y, y_test = train_test_split(features_all_urban_li, target, random_state = 1, test_size = .2)\n",
    "config = 5"
   ]
  },
  {
   "cell_type": "markdown",
   "id": "2d28291b",
   "metadata": {},
   "source": [
    "Random Forest 6: Rural, Low Income"
   ]
  },
  {
   "cell_type": "code",
   "execution_count": 44,
   "id": "0256de35",
   "metadata": {},
   "outputs": [],
   "source": [
    "# select features, set target, split test set\n",
    "features_all_rural_li = final_data_li[final_data_li.URBAN==0]\\\n",
    "                        .drop(columns=['HINCP','OTHERAMT','GASAMT','OILAMT','ELECAMT','NUMPEOPLE',\\\n",
    "                                       'METRO','BURDEN','HHAGE','NUMKIDS', 'POVTHRESH', 'LITHRESH','URBAN'])\n",
    "target = final_data_li[final_data_li.URBAN==0]['BURDEN']\n",
    "X, X_test, y, y_test = train_test_split(features_all_rural_li, target, random_state = 1, test_size = .2)\n",
    "config = 6"
   ]
  },
  {
   "cell_type": "markdown",
   "id": "1e931c8a",
   "metadata": {},
   "source": [
    "After running one of the six cells above to choose features and output, continue below."
   ]
  },
  {
   "cell_type": "code",
   "execution_count": 45,
   "id": "bddd7e57",
   "metadata": {},
   "outputs": [],
   "source": [
    "# split between train and validation sets\n",
    "X_train, X_val, y_train, y_val = train_test_split(X, y, random_state = 1, test_size = 0.2)\n",
    "\n",
    "# instantiate random forest regressor\n",
    "rf_tree = RandomForestRegressor()\n",
    "rf_tree.fit(X_train, y_train)\n",
    "\n",
    "# set parameter distribution for random search CV\n",
    "\n",
    "# param_dist_rf = {'n_estimators': randint(10, 100),\n",
    "#               'max_leaf_nodes': randint(3, 100),\n",
    "#               'max_features': [\"auto\"],\n",
    "#               'max_depth': randint(1, 10),\n",
    "#               'min_samples_leaf': randint(1, 30),\n",
    "#               'min_samples_split': randint(2, 20)}\n",
    "param_dist_rf = {'n_estimators': randint(1, 2500),\n",
    "              'max_leaf_nodes': randint(3, 200),\n",
    "              'max_features': [\"auto\"],\n",
    "              'max_depth': randint(1, 50),\n",
    "              'min_samples_leaf': randint(1, 40),\n",
    "              'min_samples_split': randint(2, 40)}"
   ]
  },
  {
   "cell_type": "markdown",
   "id": "0d750d65",
   "metadata": {},
   "source": [
    "The following cell will take the longest to run. If it takes too long, alter params above or n_iter keyword in the RandomizedSearchCV() call."
   ]
  },
  {
   "cell_type": "code",
   "execution_count": null,
   "id": "2c74234f",
   "metadata": {},
   "outputs": [],
   "source": [
    "rnd_search_rf = RandomizedSearchCV(rf_tree, param_distributions=param_dist_rf, cv=10, n_iter=1)\n",
    "# default n_iter = 200 for data lab\n",
    "\n",
    "rnd_search_rf.fit(X_train, y_train)\n",
    "\n",
    "print(rnd_search_rf.best_params_)\n",
    "\n",
    "# fit tree with best parameters\n",
    "rf_tree.set_params(max_leaf_nodes=rnd_search_rf.best_params_['max_leaf_nodes'], \n",
    "                    n_estimators=rnd_search_rf.best_params_['n_estimators'], \n",
    "                    max_features = rnd_search_rf.best_params_['max_features'],\n",
    "                    max_depth = rnd_search_rf.best_params_['max_depth'],\n",
    "                    min_samples_leaf = rnd_search_rf.best_params_['min_samples_leaf'],\n",
    "                    min_samples_split = rnd_search_rf.best_params_['min_samples_split'])\n",
    "\n",
    "# These scores carry no meaning for the random forest regressor, but will still print out\n",
    "rf_train_score = rf_tree.score(X_train, y_train)\n",
    "rf_val_score = rf_tree.score(X_val, y_val)\n",
    "print('Train Score: ', rf_train_score)\n",
    "print('Validation Score: ', rf_val_score)"
   ]
  },
  {
   "cell_type": "markdown",
   "id": "bf38a97f",
   "metadata": {},
   "source": [
    "Built-In Feature Importance"
   ]
  },
  {
   "cell_type": "code",
   "execution_count": 47,
   "id": "681b1123",
   "metadata": {},
   "outputs": [
    {
     "name": "stdout",
     "output_type": "stream",
     "text": [
      "Feature ranking:\n",
      "0. YRBUILT (0.139739)\n",
      "1. UNITSIZE (0.094385)\n",
      "2. NUMELDERS (0.039437)\n",
      "3. DIVISION_7 (0.036948)\n",
      "4. NUMOLDKIDS (0.030204)\n",
      "5. HOTWATER_4 (0.028003)\n",
      "6. HEATFUEL_3 (0.027633)\n",
      "7. BLD_7 (0.027069)\n",
      "8. DIVISION_6 (0.020716)\n",
      "9. HOTWATER_3 (0.019659)\n",
      "10. BLD_8 (0.019554)\n",
      "11. HEATTYPE_1 (0.018851)\n",
      "12. HEATTYPE_7 (0.018746)\n",
      "13. DIVISION_5 (0.018609)\n",
      "14. HHRACE_6.0 (0.018110)\n",
      "15. DIVISION_4 (0.017890)\n",
      "16. DIVISION_9 (0.017712)\n",
      "17. HHRACE_2.0 (0.016961)\n",
      "18. DIVISION_2 (0.016519)\n",
      "19. ACPRIMARY_5 (0.016161)\n",
      "20. COOKFUEL_2 (0.015861)\n",
      "21. BLD_1 (0.015845)\n",
      "22. ACPRIMARY_1 (0.015525)\n",
      "23. TENURE_1.0 (0.014619)\n",
      "24. COOKFUEL_1 (0.014423)\n",
      "25. HEATTYPE_5 (0.014112)\n",
      "26. HEATTYPE_3 (0.013793)\n",
      "27. HEATTYPE_8 (0.013330)\n",
      "28. FIREPLACE (0.013267)\n",
      "29. TENURE_2.0 (0.013217)\n",
      "30. ACPRIMARY_0 (0.012686)\n",
      "31. HHRACE_1.0 (0.012415)\n",
      "32. BLD_2 (0.012312)\n",
      "33. ACPRIMARY_2 (0.012025)\n",
      "34. ACPRIMARY_6 (0.011580)\n",
      "35. BLD_4 (0.010060)\n",
      "36. ACPRIMARY_4 (0.009550)\n",
      "37. HOTWATER_1 (0.008911)\n",
      "38. DIVISION_8 (0.008780)\n",
      "39. NUMYNGKIDS (0.008694)\n",
      "40. DIVISION_3 (0.008384)\n",
      "41. HEATFUEL_2 (0.008238)\n",
      "42. BLD_5 (0.008138)\n",
      "43. TENURE_0.0 (0.007820)\n",
      "44. HOTWATER_2 (0.007370)\n",
      "45. HEATFUEL_1 (0.007292)\n",
      "46. HOTWATER_0 (0.006830)\n",
      "47. COOKFUEL_3 (0.006507)\n",
      "48. DIVISION_1 (0.006059)\n",
      "49. HEATTYPE_4 (0.005419)\n",
      "50. HEATFUEL_9 (0.004751)\n",
      "51. ACPRIMARY_7 (0.004298)\n",
      "52. HEATFUEL_4 (0.004013)\n",
      "53. HEATFUEL_7 (0.003464)\n",
      "54. HEATTYPE_2 (0.003267)\n",
      "55. HHRACE_3.0 (0.003265)\n",
      "56. BLD_9 (0.001628)\n",
      "57. HHRACE_4.0 (0.001597)\n",
      "58. SOLAR (0.001273)\n",
      "59. HEATFUEL_5 (0.001094)\n",
      "60. HEATTYPE_6 (0.000909)\n",
      "61. HEATTYPE_0 (0.000846)\n",
      "62. BLD_6 (0.000815)\n",
      "63. BLD_3 (0.000740)\n",
      "64. HEATFUEL_0 (0.000593)\n",
      "65. HEATFUEL_6 (0.000527)\n",
      "66. HEATTYPE_9 (0.000500)\n",
      "67. ACPRIMARY_3 (0.000183)\n",
      "68. HEATTYPE_13 (0.000153)\n",
      "69. HEATTYPE_12 (0.000046)\n",
      "70. COOKFUEL_0 (0.000029)\n",
      "71. COOKFUEL_4 (0.000029)\n",
      "72. HEATTYPE_10 (0.000011)\n",
      "73. HEATTYPE_11 (0.000000)\n",
      "74. HOTWATER_6 (0.000000)\n",
      "75. HOTWATER_5 (0.000000)\n",
      "76. HHRACE_5.0 (0.000000)\n"
     ]
    },
    {
     "data": {
      "text/plain": [
       "<Figure size 640x480 with 0 Axes>"
      ]
     },
     "metadata": {},
     "output_type": "display_data"
    }
   ],
   "source": [
    "importances = rf_tree.feature_importances_\n",
    "std = np.std([tree.feature_importances_ for tree in rf_tree.estimators_],\n",
    "              axis=0)\n",
    "indices = np.argsort(importances)[::-1]\n",
    "\n",
    "# Print the feature ranking\n",
    "print(\"Feature ranking:\")\n",
    "\n",
    "feat_imp = []\n",
    "for f in range(X.shape[1]):\n",
    "    print(\"%d. %s (%f)\" % (f, X.columns[indices[f]], importances[indices[f]]))\n",
    "    feat_imp.append((X.columns[indices[f]], importances[indices[f]]))\n",
    "    \n",
    "feat_df = pd.DataFrame(feat_imp, columns=['Feature','Importance'])\n",
    "feat_df.set_index('Feature',inplace=True)\n",
    "feat_df.to_csv('rf_out/feat_importance/built_in_importances_{}.csv'.format(str(config)))\n",
    "feat_df = feat_df.T\n",
    "\n",
    "# Plot the feature importances of the forest\n",
    "plt.figure()\n",
    "plt.title(\"Feature Importances\")\n",
    "plt.bar(range(X.shape[1]), importances[indices],\n",
    "        color=\"r\", yerr=std[indices], align=\"center\")\n",
    "plt.savefig('rf_out/figs/feat_imp/built_in_feature_importance_{}.png'.format(str(config)),dpi=300)\n",
    "plt.clf()"
   ]
  },
  {
   "cell_type": "markdown",
   "id": "a6bf2fe4",
   "metadata": {},
   "source": [
    "Residuals"
   ]
  },
  {
   "cell_type": "code",
   "execution_count": 48,
   "id": "71dc74e5",
   "metadata": {},
   "outputs": [
    {
     "data": {
      "text/plain": [
       "<Figure size 640x480 with 0 Axes>"
      ]
     },
     "metadata": {},
     "output_type": "display_data"
    }
   ],
   "source": [
    "resid_df = pd.DataFrame(y-rf_tree.predict(X))\n",
    "resid_df.to_csv('rf_out/residuals/residuals_{}.csv'.format(str(config)))\n",
    "plt.scatter(np.arange(len(y)),y-rf_tree.predict(X))\n",
    "plt.savefig('rf_out/residuals/figs/residuals_{}.png'.format(str(config)),dpi=300)\n",
    "plt.clf()\n",
    "plt.scatter(np.arange(len(y)),np.sort(y-rf_tree.predict(X)))\n",
    "plt.savefig('rf_out/residuals/figs/residuals_sorted_{}.png'.format(str(config)),dpi=300)\n",
    "plt.clf()"
   ]
  },
  {
   "cell_type": "markdown",
   "id": "12752200",
   "metadata": {},
   "source": [
    "Permutation Importance (may take a long time to run)"
   ]
  },
  {
   "cell_type": "code",
   "execution_count": 49,
   "id": "4fc0aff1",
   "metadata": {
    "scrolled": true
   },
   "outputs": [
    {
     "data": {
      "image/png": "[encoded data removed]",
      "text/plain": [
       "<Figure size 640x480 with 1 Axes>"
      ]
     },
     "metadata": {},
     "output_type": "display_data"
    }
   ],
   "source": [
    "plt.rcParams.update(plt.rcParamsDefault)\n",
    "plt.rcParams['font.size'] = 3\n",
    "perm_importance = permutation_importance(rf_tree, X_test, y_test)\n",
    "sorted_idx = perm_importance.importances_mean.argsort()\n",
    "perm_df = pd.DataFrame(perm_importance.importances_mean[sorted_idx],\\\n",
    "                       index=X.columns[sorted_idx],columns=['Importance'])\n",
    "perm_df.sort_values(by='Importance',ascending=False).to_csv('rf_out/feat_importance/permutation_importance_{}.csv'.format(str(config)))\n",
    "plt.barh(X.columns[sorted_idx], perm_importance.importances_mean[sorted_idx])\n",
    "plt.xlabel(\"Permutation Importance\")\n",
    "plt.savefig('rf_out/figs/feat_imp/permutation_importance/permutation_importance_{}.png'\\\n",
    "                .format(str(config)),dpi=300)\n",
    "plt.rcParams.update(plt.rcParamsDefault)"
   ]
  },
  {
   "cell_type": "markdown",
   "id": "30c323d7",
   "metadata": {},
   "source": [
    "Shapley Values (may take a long time to run)"
   ]
  },
  {
   "cell_type": "code",
   "execution_count": null,
   "id": "fc694ec9",
   "metadata": {},
   "outputs": [],
   "source": [
    "explainer = shap.TreeExplainer(rf_tree)\n",
    "shap_values = explainer.shap_values(X_test)\n",
    "shap_abs = np.abs(shap_values)\n",
    "shap_df = pd.DataFrame(shap_abs.mean(axis=0),columns=['Shapley Value'])\n",
    "shap_df['Feature'] = X.columns[shap_df.index]\n",
    "shap_df.sort_values(by='Shapley Value',ascending=False, inplace=True)\n",
    "shap_df = shap_df.reset_index().drop(columns=['index']).set_index(shap_df.Feature).drop(columns=['Feature'])\n",
    "shap_df.to_csv('rf_out/feat_importance/shapley_{}.csv'.format(str(config)))\n",
    "shap.summary_plot(shap_values, X_test, plot_type=\"bar\",show=False)\n",
    "plt.savefig('rf_out/figs/feat_imp/shapley/shapley_bar_{}.png'\\\n",
    "                .format(str(config)),dpi=300, bbox_inches='tight')\n",
    "plt.clf()\n",
    "shap.summary_plot(shap_values, X_test,show=False)\n",
    "plt.savefig('rf_out/figs/feat_imp/shapley/shapley_jitter_{}.png'\\\n",
    "                .format(str(config)),dpi=300, bbox_inches='tight')\n",
    "\n",
    "# max_display keyword in summary_plot call changes # of features shown on plot"
   ]
  },
  {
   "cell_type": "markdown",
   "id": "8834b208",
   "metadata": {},
   "source": [
    "Mean Squared Error (after running this cell, go back and rerun a new configuration until all 6 are run)"
   ]
  },
  {
   "cell_type": "code",
   "execution_count": null,
   "id": "3ef5044f",
   "metadata": {},
   "outputs": [],
   "source": [
    "mse_test = mean_squared_error(y_test,rf_tree.predict(X_test))\n",
    "mse_val = mean_squared_error(y_val,rf_tree.predict(X_val))\n",
    "print('Test MSE is:',mse_test)\n",
    "print('Val MSE is:',mse_val)\n",
    "\n",
    "mses[config-1][0] = mse_test\n",
    "mses[config-1][1] = mse_val"
   ]
  },
  {
   "cell_type": "code",
   "execution_count": null,
   "id": "2eeccf4e",
   "metadata": {},
   "outputs": [],
   "source": [
    "# When all 6 configurations are finished, run this cell to output the MSEs\n",
    "mse_df = pd.DataFrame(mses, index=['Config 1','Config 2','Config 3','Config 4','Config 5','Config 6'],\\\n",
    "                     columns=['Test MSE','Val MSE'])\n",
    "mse_df.to_csv('rf_out/mses.csv')"
   ]
  },
  {
   "cell_type": "code",
   "execution_count": 51,
   "id": "57af447c",
   "metadata": {},
   "outputs": [
    {
     "data": {
      "text/plain": [
       "[[0, 0],\n",
       " [0, 0],\n",
       " [0, 0],\n",
       " [0, 0],\n",
       " [0, 0],\n",
       " [0.034943014273540136, 0.03555582529570137]]"
      ]
     },
     "execution_count": 51,
     "metadata": {},
     "output_type": "execute_result"
    }
   ],
   "source": [
    "mses"
   ]
  },
  {
   "cell_type": "code",
   "execution_count": null,
   "id": "43278566",
   "metadata": {},
   "outputs": [],
   "source": []
  }
 ],
 "metadata": {
  "kernelspec": {
   "display_name": "Python 3 (ipykernel)",
   "language": "python",
   "name": "python3"
  },
  "language_info": {
   "codemirror_mode": {
    "name": "ipython",
    "version": 3
   },
   "file_extension": ".py",
   "mimetype": "text/x-python",
   "name": "python",
   "nbconvert_exporter": "python",
   "pygments_lexer": "ipython3",
   "version": "3.8.8"
  }
 },
 "nbformat": 4,
 "nbformat_minor": 5
}
