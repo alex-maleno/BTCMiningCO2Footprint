{
 "cells": [
  {
   "cell_type": "code",
   "execution_count": null,
   "metadata": {},
   "outputs": [],
   "source": [
    "import pandas as pd\n",
    "import numpy as np\n",
    "import statsmodels.api as sm\n",
    "import matplotlib.pyplot as plt\n",
    "from sklearn.metrics import r2_score\n",
    "from sklearn import linear_model\n",
    "from sklearn.metrics import mean_squared_error as mse"
   ]
  },
  {
   "cell_type": "markdown",
   "metadata": {},
   "source": [
    "# <span style=\"color: green;\">READING IN DATA</span>"
   ]
  },
  {
   "cell_type": "code",
   "execution_count": null,
   "metadata": {},
   "outputs": [],
   "source": [
    "# Reading in dataset\n",
    "# Specify filenames of datasets\n",
    "all_income = 'final_cleaned_dummy_data.csv'\n",
    "low_income = 'lowIncomeFilteredData.csv'\n",
    "\n",
    "# Specify columns to drop\n",
    "response_var = ['BURDEN']\n",
    "calc_response_list =  ['HINCP', 'ELECAMT', 'GASAMT', 'OILAMT', 'OTHERAMT']\n",
    "other_list = ['METRO', 'DIVISION', 'Unnamed:', 'index', 'YRBUILT']\n",
    "\n",
    "# Function to read files to dataframe\n",
    "def read_to_df(filename, response, calc_response, other):\n",
    "    data = pd.read_csv(filename)\n",
    "    y = data[response]\n",
    "    \n",
    "    # Dropping infinite and nan values of y and corresponding index of data\n",
    "    j = 0\n",
    "    for i in y['BURDEN']:\n",
    "        if i == float('inf'):\n",
    "            y = y.drop([j])\n",
    "            data = data.drop([j])\n",
    "        elif np.isnan(i) == True:\n",
    "            y = y.drop([j])\n",
    "            data = data.drop([j])\n",
    "        j += 1\n",
    "    \n",
    "    # Agnostic drop code (can drop any column as long as it contains specific word)\n",
    "    for i in data:\n",
    "        if '_' in i:\n",
    "            if i.split('_')[0] in calc_response_list+response_var+other_list:\n",
    "                data = data.drop(i, axis=1)\n",
    "        elif ' ' in i:\n",
    "            if i.split(' ')[0] in calc_response_list+response_var+other_list:\n",
    "                data = data.drop(i, axis=1)\n",
    "        elif i in calc_response_list+response_var+other_list:\n",
    "            data = data.drop(i, axis=1)\n",
    "\n",
    "    return y, data"
   ]
  },
  {
   "cell_type": "markdown",
   "metadata": {},
   "source": [
    "# <span style=\"color: red;\">SIMPLE LINEAR REGRESSION</span>"
   ]
  },
  {
   "cell_type": "code",
   "execution_count": null,
   "metadata": {},
   "outputs": [],
   "source": [
    "# Creating the model\n",
    "y_all, all_income_df = read_to_df(all_income, response_var, calc_response_list, other_list)\n",
    "y_low, low_income_df = read_to_df(low_income, response_var, calc_response_list, other_list)\n",
    "y_all, y_low = y_all['BURDEN'], y_low['BURDEN']"
   ]
  },
  {
   "cell_type": "code",
   "execution_count": null,
   "metadata": {},
   "outputs": [],
   "source": [
    "# Simple linear regression with best predictor\n",
    "def SLR(data, response):\n",
    "    \n",
    "    # Find best predictor\n",
    "    compare = 0\n",
    "    for i in data.columns:\n",
    "        data_basis = data[i]\n",
    "        data_basis = np.array(data_basis).reshape(-1, 1)\n",
    "        regr = linear_model.LinearRegression()\n",
    "        regr.fit(data_basis, response)\n",
    "        y_pred = regr.predict(data_basis)\n",
    "        if r2_score(response, y_pred) > compare:\n",
    "            y_pred_best = y_pred\n",
    "            compare = r2_score(response, y_pred)\n",
    "            predictor_best = i\n",
    "    \n",
    "    MSE = mse(response, y_pred_best)\n",
    "\n",
    "    return y_pred_best, predictor_best, compare, MSE"
   ]
  },
  {
   "cell_type": "markdown",
   "metadata": {},
   "source": [
    "# <span style=\"color: blue;\">Unskewed response variable</span>"
   ]
  },
  {
   "cell_type": "code",
   "execution_count": null,
   "metadata": {},
   "outputs": [],
   "source": [
    "def response_unskew(data, y):\n",
    "    p = np.percentile(y, 95)\n",
    "    index = y.index\n",
    "    j = 0\n",
    "    for i in y:\n",
    "        if i > p:\n",
    "            y = y.drop([index[j]])\n",
    "            data = data.drop([index[j]])\n",
    "        elif i <= 0:\n",
    "            y = y.drop([index[j]])\n",
    "            data = data.drop([index[j]])\n",
    "        j += 1\n",
    "    return data, y"
   ]
  },
  {
   "cell_type": "code",
   "execution_count": null,
   "metadata": {},
   "outputs": [],
   "source": [
    "# SLR and unskew data creation\n",
    "all_income_df, y_all = response_unskew(all_income_df, y_all)\n",
    "low_income_df, y_low = response_unskew(low_income_df, y_low)   \n",
    "y_pred_all, predictor_best_all, compare_all, MSE_all = SLR(all_income_df, y_all)\n",
    "y_pred_low, predictor_best_low, compare_low, MSE_low = SLR(low_income_df, y_low)"
   ]
  },
  {
   "cell_type": "code",
   "execution_count": null,
   "metadata": {},
   "outputs": [],
   "source": [
    "# Plot All Income\n",
    "plt.scatter(all_income_df[predictor_best_all], y_all, color='black', alpha = 0.25)\n",
    "plt.plot(all_income_df[predictor_best_all], y_pred_all, color='blue', linewidth=3)\n",
    "plt.xlabel(predictor_best_all)\n",
    "plt.ylabel('Energy Burden')\n",
    "\n",
    "plt.show()\n",
    "\n",
    "# Plot Low Income\n",
    "plt.scatter(low_income_df[predictor_best_low], y_low, color='black', alpha = 0.25)\n",
    "plt.plot(low_income_df[predictor_best_low], y_pred_low, color='red', linewidth=3)\n",
    "plt.xlabel(predictor_best_low)\n",
    "plt.ylabel('Energy Burden')\n",
    "\n",
    "plt.show()"
   ]
  },
  {
   "cell_type": "code",
   "execution_count": null,
   "metadata": {},
   "outputs": [],
   "source": [
    "# Best R2\n",
    "print('Best R2 of SLR on all income: ',compare_all)\n",
    "print('Best R2 of SLR on low income: ', compare_low)\n",
    "print('MSE on all income: ', MSE_all)\n",
    "print('MSE on low income: ', MSE_low)"
   ]
  },
  {
   "cell_type": "markdown",
   "metadata": {},
   "source": [
    "# <span style=\"color: blue;\">MULTIPLE LINEAR REGRESSION</span>"
   ]
  },
  {
   "cell_type": "code",
   "execution_count": null,
   "metadata": {},
   "outputs": [],
   "source": [
    "# Intercept\n",
    "all_income_dfI = all_income_df.assign(Intercept=1)\n",
    "low_income_dfI = low_income_df.assign(Intercept=1)\n",
    "\n",
    "def MLR(data, response):\n",
    "    # Creating the model\n",
    "    sm_model = sm.OLS(response, data)\n",
    "\n",
    "    # Multiple Linear Regression\n",
    "    results = sm_model.fit()\n",
    "\n",
    "    # Summary\n",
    "    data_summary = results.summary()\n",
    "    return data_summary\n",
    "\n",
    "all_summary = MLR(all_income_dfI, y_all)\n",
    "low_summary = MLR(low_income_dfI, y_low)\n",
    "display(all_summary)\n",
    "display(low_summary)"
   ]
  },
  {
   "cell_type": "markdown",
   "metadata": {},
   "source": [
    "# <span style=\"color: orange;\">MULTICOLLINEARITY VIF TEST</span>"
   ]
  },
  {
   "cell_type": "code",
   "execution_count": null,
   "metadata": {},
   "outputs": [],
   "source": [
    "from statsmodels.stats.outliers_influence import variance_inflation_factor\n",
    "\n",
    "# For each predictive variable, calculate VIF and save in a dataframe called \"VIF\"\n",
    "def VIF(data):\n",
    "    VIF = pd.DataFrame()\n",
    "    VIF['VIF'] = [variance_inflation_factor(data.values, i) for i in range(data.shape[1])]\n",
    "    VIF['Predictive Variable'] = data.columns\n",
    "    VIF = VIF[VIF['Predictive Variable'] != 'Intercept']\n",
    "    return VIF\n",
    "\n",
    "VIF_all = VIF(all_income_dfI)\n",
    "VIF_low = VIF(low_income_dfI)"
   ]
  },
  {
   "cell_type": "markdown",
   "metadata": {},
   "source": [
    "# <span style=\"color: blue;\">Re-test MLR with dropped Collinear Predictors</span>"
   ]
  },
  {
   "cell_type": "code",
   "execution_count": null,
   "metadata": {},
   "outputs": [],
   "source": [
    "def collinear_drop(VIF, data):\n",
    "    j = 0\n",
    "    for i in VIF['VIF']:\n",
    "        if i >= 10:\n",
    "            data = data.drop([VIF['Predictive Variable'][j]], axis=1)\n",
    "        j += 1\n",
    "    return data\n",
    "\n",
    "# Drop collinear predictors\n",
    "all_income_dfI_ncl = collinear_drop(VIF_all, all_income_dfI)\n",
    "low_income_dfI_ncl = collinear_drop(VIF_low, low_income_dfI)"
   ]
  },
  {
   "cell_type": "code",
   "execution_count": null,
   "metadata": {},
   "outputs": [],
   "source": [
    "all_summary_ncl = MLR(all_income_dfI_ncl, y_all)\n",
    "low_summary_ncl = MLR(low_income_dfI_ncl, y_low)\n",
    "\n",
    "print(all_summary_ncl)\n",
    "print(low_summary_ncl)"
   ]
  },
  {
   "cell_type": "markdown",
   "metadata": {},
   "source": [
    "# <span style=\"color: blue;\">Re-test MLR low with only significant categorical predictors (alpha = 0.05)</span>"
   ]
  },
  {
   "cell_type": "code",
   "execution_count": null,
   "metadata": {},
   "outputs": [],
   "source": [
    "Sig_Pred_low = ['HOTWATER', 'URBAN', 'TENURE', 'Intercept']\n",
    "for i in low_income_dfI_ncl:\n",
    "    if i not in Sig_Pred_low:\n",
    "        low_income_dfI_ncl = low_income_dfI_ncl.drop([i], axis=1)\n",
    "\n",
    "low_summary_ncl_sig = MLR(low_income_dfI_ncl, y_low)\n",
    "display(low_summary_ncl_sig)"
   ]
  }
 ],
 "metadata": {
  "kernelspec": {
   "display_name": "Python 3",
   "language": "python",
   "name": "python3"
  },
  "language_info": {
   "codemirror_mode": {
    "name": "ipython",
    "version": 3
   },
   "file_extension": ".py",
   "mimetype": "text/x-python",
   "name": "python",
   "nbconvert_exporter": "python",
   "pygments_lexer": "ipython3",
   "version": "3.8.5"
  }
 },
 "nbformat": 4,
 "nbformat_minor": 4
}
