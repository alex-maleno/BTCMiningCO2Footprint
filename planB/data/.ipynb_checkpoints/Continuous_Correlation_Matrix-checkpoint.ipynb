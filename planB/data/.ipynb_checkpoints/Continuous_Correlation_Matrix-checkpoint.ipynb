{
 "cells": [
  {
   "cell_type": "code",
   "execution_count": null,
   "metadata": {},
   "outputs": [],
   "source": [
    "#!/usr/bin/env python3\n",
    "# -*- coding: utf-8 -*-\n",
    "\"\"\"\n",
    "Created on Sat Dec  4 10:51:05 2021"
   ]
  },
  {
   "cell_type": "code",
   "execution_count": null,
   "metadata": {},
   "outputs": [],
   "source": [
    "@author: jake\n",
    "\"\"\""
   ]
  },
  {
   "cell_type": "code",
   "execution_count": null,
   "metadata": {},
   "outputs": [],
   "source": [
    "import pandas as pd\n",
    "import numpy as np\n",
    "import seaborn as sns\n",
    "import matplotlib.pyplot as plt"
   ]
  },
  {
   "cell_type": "code",
   "execution_count": null,
   "metadata": {},
   "outputs": [],
   "source": [
    "raw_data = pd.read_csv('ahs2019n.csv')\n",
    "print('Data read')"
   ]
  },
  {
   "cell_type": "markdown",
   "metadata": {},
   "source": [
    "predictors = ['ACPRIMARY','ADEQUACY','BLD','CONDO','COOKFUEL','DISHH','DIVISION','ELECAMT','FIREPLACE',\\<br>\n",
    "              'HEATFUEL','HEATTYPE','HHAGE','HHCITSHP','HHGRAD','HHMOVE','HHRACE','HINCP',\\<br>\n",
    "                  'HOTWATER','HUDSUB','MAINTAMT','MARKETVAL','MILHH','NUMCARE','NUMELDERS','NUMERRND',\\<br>\n",
    "                      'NUMPEOPLE','NUMYNGKIDS','NUMOLDKIDS','OMB13CBSA','PERPOVLVL','RATINGNH','RATINGHS',\\<br>\n",
    "                          'RENTCNTRL','SOLAR','STORIES','TENURE','TOTROOMS','UNITSIZE','WATERAMT','YRBUILT']"
   ]
  },
  {
   "cell_type": "code",
   "execution_count": null,
   "metadata": {},
   "outputs": [],
   "source": [
    "predictors = ['ACPRIMARY','BLD','COOKFUEL','DIVISION','FIREPLACE','HEATFUEL','HEATTYPE','HHRACE','HOTWATER',\\\n",
    "              'NUMELDERS','NUMYNGKIDS','NUMOLDKIDS','OMB13CBSA','SOLAR','TENURE','UNITSIZE','YRBUILT',\\\n",
    "                  'HINCP','OTHERAMT','OILAMT','GASAMT','ELECAMT']\n",
    "    \n",
    "data = raw_data[predictors]"
   ]
  },
  {
   "cell_type": "markdown",
   "metadata": {},
   "source": [
    "str_cols = ['ACPRIMARY','ADEQUACY','BLD','CONDO','COOKFUEL','DISHH','DIVISION','FIREPLACE',\\<br>\n",
    "              'HEATFUEL','HEATTYPE','HHCITSHP','HHGRAD','HHRACE','HOTWATER','HUDSUB',\\<br>\n",
    "                  'MILHH','NUMCARE','NUMERRND','OMB13CBSA','RENTCNTRL','SOLAR','TENURE','UNITSIZE']"
   ]
  },
  {
   "cell_type": "code",
   "execution_count": null,
   "metadata": {},
   "outputs": [],
   "source": [
    "str_cols = ['ACPRIMARY','BLD','COOKFUEL','DIVISION','FIREPLACE','HEATFUEL','HEATTYPE','HHRACE','HOTWATER',\\\n",
    "                'OMB13CBSA','SOLAR','TENURE','UNITSIZE']\n",
    "    \n",
    "for col in str_cols:\n",
    "    try:\n",
    "        for i in range(len(data)):\n",
    "            data.loc[i,col] = int(data.loc[i,col].strip(\"\\'\"))\n",
    "    except:\n",
    "        print('Data already converted.')\n",
    "    print(col,'column complete.')"
   ]
  },
  {
   "cell_type": "markdown",
   "metadata": {},
   "source": [
    "eplace -6s (not applicable) and -9s (not available) with nan"
   ]
  },
  {
   "cell_type": "code",
   "execution_count": null,
   "metadata": {},
   "outputs": [],
   "source": [
    "data.replace(-6, np.nan, inplace=True)\n",
    "data.replace(-9, np.nan, inplace=True)"
   ]
  },
  {
   "cell_type": "markdown",
   "metadata": {},
   "source": [
    "drop rows where income and/or electricity bill are not reported or n/a,<br>\n",
    "and where electricity bill is included with rent or other bill (unable to calculated burden)"
   ]
  },
  {
   "cell_type": "code",
   "execution_count": null,
   "metadata": {},
   "outputs": [],
   "source": [
    "data.ELECAMT.replace(2,np.nan,inplace=True)\n",
    "data.OTHERAMT.replace(2,np.nan,inplace=True)\n",
    "data.OILAMT.replace(2,np.nan,inplace=True)\n",
    "data.GASAMT.replace(2,np.nan,inplace=True)\n",
    "data = data.dropna(subset=['HINCP','ELECAMT','OTHERAMT','OILAMT','GASAMT'])"
   ]
  },
  {
   "cell_type": "markdown",
   "metadata": {},
   "source": [
    "# Cleaning columns for needed variables<br>\n",
    "eplace 2s with 0s in CONDO, DISHH, RENTCNTRL, SOLAR (change binary coding from 1/2 to 0/1 with 0 being No)<br>\n",
    "ata.CONDO.replace(2,0,inplace=True)<br>\n",
    "ata.DISHH.replace(2,0,inplace=True)<br>\n",
    "ata.RENTCNTRL.replace(2,0,inplace=True)"
   ]
  },
  {
   "cell_type": "code",
   "execution_count": null,
   "metadata": {},
   "outputs": [],
   "source": [
    "data.SOLAR.replace(2,0,inplace=True)\n",
    "#replace 5s with 0s in COOKFUEL (0 being no cooking fuel)\n",
    "data.COOKFUEL.replace(5,0,inplace=True)\n",
    "#replace ELECAMT nan's and (1,2,3) with 0\n",
    "data.ELECAMT.replace([1,3],0,inplace=True)\n",
    "data.OILAMT.replace([1,3],0,inplace=True)\n",
    "data.GASAMT.replace([1,3],0,inplace=True)\n",
    "data.OTHERAMT.replace([1,3],0,inplace=True)\n",
    "#HUDSUB replace 3 and nan with 0, and replace 2 with 1\n",
    "#data.HUDSUB.replace([3,np.nan],0,inplace=True)\n",
    "#data.HUDSUB.replace(2,1,inplace=True)\n",
    "#FIREPLACE replace 4's with 0's and (1,2,3) with 1\n",
    "data.FIREPLACE.replace([2,3],1,inplace=True)\n",
    "data.FIREPLACE.replace(4,0,inplace=True)\n",
    "#MILHH replace 6 with 0's (no one in military) and (1,2,3,4,5) with 1 (at least one person active or veteran)\n",
    "#data.MILHH.replace(6,0,inplace=True)\n",
    "#data.MILHH.replace([2,3,4,5],1,inplace=True)\n",
    "#NUMCARE replace (2,3) with 1 (at least one person with this disability) and 1's with 0's (no one has it)\n",
    "#data.NUMCARE.replace(1,0,inplace=True)\n",
    "#data.NUMCARE.replace([2,3],1,inplace=True)\n",
    "#NUMERRND replace (2,3) with 1 (at least one person with difficulty doing errands) and 1's with 0's (no one has it)\n",
    "#data.NUMERRND.replace(1,0,inplace=True)\n",
    "#data.NUMERRND.replace([2,3],1,inplace=True)\n",
    "#TENURE replace 3's with 0's (occupied without payment)\n",
    "data.TENURE.replace(3,0,inplace=True)\n",
    "#OMB13CBSA replace 99999 with rural (0) and all others with urban (1)\n",
    "data.OMB13CBSA.replace(99999,0,inplace=True)\n",
    "data.loc[data.OMB13CBSA > 1, 'OMB13CBSA'] = 1\n",
    "#ACPRIMARY replace 12 (no AC) with 0\n",
    "data.ACPRIMARY.replace(12,0,inplace=True)\n",
    "#HEATFUEL replace 10 (no heat) with 0\n",
    "data.HEATFUEL.replace(10,0,inplace=True)\n",
    "#HEATTYPE replace 13 (no heat) with 0 and 14 with 13 to move next value up\n",
    "data.HEATTYPE.replace(13,0,inplace=True)\n",
    "data.HEATTYPE.replace(14,13,inplace=True)\n",
    "#HOTWATER replace 7 (no hot running water) with 0\n",
    "data.HOTWATER.replace(7,0,inplace=True)"
   ]
  },
  {
   "cell_type": "code",
   "execution_count": null,
   "metadata": {},
   "outputs": [],
   "source": [
    "data.to_csv('cleaned_data.csv')"
   ]
  },
  {
   "cell_type": "markdown",
   "metadata": {},
   "source": [
    "####################################"
   ]
  },
  {
   "cell_type": "code",
   "execution_count": null,
   "metadata": {},
   "outputs": [],
   "source": [
    "numerical_cols = ['BLD','NUMELDERS','NUMYNGKIDS','NUMOLDKIDS','UNITSIZE','YRBUILT']\n",
    "    \n",
    "corr_cols = data[numerical_cols]\n",
    "corr = corr_cols.corr()\n",
    "mask = np.zeros_like(corr)\n",
    "mask[np.triu_indices_from(mask)] = True"
   ]
  },
  {
   "cell_type": "markdown",
   "metadata": {},
   "source": [
    "Construct a heatmap of the correlation matrix<br>\n",
    "Note \"annot = True\" shows the correlation coefficient in each cell"
   ]
  },
  {
   "cell_type": "code",
   "execution_count": null,
   "metadata": {},
   "outputs": [],
   "source": [
    "fig, ax = plt.subplots(figsize=(15,10))\n",
    "sns.heatmap(corr, ax=ax,\n",
    "        xticklabels=corr.columns,\n",
    "        yticklabels=corr.columns,\n",
    "        mask = mask, cmap=\"YlGnBu\",\n",
    "        annot=True)\n",
    "plt.savefig('num_corr_matrix.png',dpi=300)"
   ]
  }
 ],
 "metadata": {
  "kernelspec": {
   "display_name": "Python 3",
   "language": "python",
   "name": "python3"
  },
  "language_info": {
   "codemirror_mode": {
    "name": "ipython",
    "version": 3
   },
   "file_extension": ".py",
   "mimetype": "text/x-python",
   "name": "python",
   "nbconvert_exporter": "python",
   "pygments_lexer": "ipython3",
   "version": "3.8.5"
  }
 },
 "nbformat": 4,
 "nbformat_minor": 2
}
