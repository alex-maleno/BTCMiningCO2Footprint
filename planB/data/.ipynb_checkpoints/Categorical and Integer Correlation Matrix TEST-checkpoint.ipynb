{
 "cells": [
  {
   "cell_type": "code",
   "execution_count": 1,
   "metadata": {},
   "outputs": [],
   "source": [
    "import pandas as pd\n",
    "from sklearn import preprocessing\n",
    "from scipy.stats import chi2_contingency\n",
    "import numpy as np\n",
    "import seaborn as sns\n",
    "import matplotlib.pyplot as plt\n",
    "\n",
    "Cleaned_data_v2 = pd.read_csv('cleaned_data_v2.csv').drop(columns=['Unnamed: 0','Unnamed: 0.1'])\n",
    "Predictors = pd.read_csv('Predictors.csv').drop(columns=['Description', 'Values', 'Tab in Excel Sheet'])"
   ]
  },
  {
   "cell_type": "code",
   "execution_count": 2,
   "metadata": {},
   "outputs": [],
   "source": [
    "# Make Predictors just categorical\n",
    "L = []\n",
    "j = 0\n",
    "for i in Predictors['Data Type']:\n",
    "    if i.split(' ')[0] == 'Categorical':\n",
    "        L.append(i.split(' ')[0])\n",
    "    else:\n",
    "        Predictors = Predictors.drop([j])\n",
    "    j += 1\n",
    "Categorical_features = Predictors['Column Name'].drop(columns=['Data Type']).tolist()"
   ]
  },
  {
   "cell_type": "code",
   "execution_count": 3,
   "metadata": {},
   "outputs": [],
   "source": [
    "# Filter data for just categorical\n",
    "#for i in Cleaned_data_v2:\n",
    "#    if i not in Categorical_features:\n",
    "#        Cleaned_data_v2 = Cleaned_data_v2.drop(columns=[i])\n",
    "\n",
    "Categorical_data = Cleaned_data_v2"
   ]
  },
  {
   "cell_type": "code",
   "execution_count": 4,
   "metadata": {},
   "outputs": [],
   "source": [
    "#Source: https://www.kaggle.com/chrisbss1/cramer-s-v-correlation-matrix\n",
    "label = preprocessing.LabelEncoder()\n",
    "data_encoded = pd.DataFrame() \n",
    "\n",
    "for i in Categorical_data.columns :\n",
    "    data_encoded[i]=label.fit_transform(Categorical_data[i])"
   ]
  },
  {
   "cell_type": "code",
   "execution_count": 5,
   "metadata": {},
   "outputs": [],
   "source": [
    "# Building of Cramer's V\n",
    "def cramers_V(var1,var2) :\n",
    "    crosstab = np.array(pd.crosstab(var1,var2, rownames=None, colnames=None)) # Cross table building\n",
    "    stat = chi2_contingency(crosstab)[0] # Keeping of the test statistic of the Chi2 test\n",
    "    obs = np.sum(crosstab) # Number of observations\n",
    "    mini = min(crosstab.shape)-1 # Take the minimum value between the columns and the rows of the cross table\n",
    "    return (stat/(obs*mini))"
   ]
  },
  {
   "cell_type": "code",
   "execution_count": null,
   "metadata": {},
   "outputs": [],
   "source": [
    "# Building of the matrix\n",
    "rows= []\n",
    "\n",
    "for var1 in data_encoded:\n",
    "    col = []\n",
    "    for var2 in data_encoded :\n",
    "        cramers =cramers_V(data_encoded[var1], data_encoded[var2]) # Cramer's V test\n",
    "        col.append(round(cramers,2)) # Keeping of the rounded value of the Cramer's V  \n",
    "    rows.append(col)\n",
    "\n",
    "cramers_results = np.array(rows)\n",
    "Categorical_Correlation_Matrix = pd.DataFrame(cramers_results, columns = data_encoded.columns, index =data_encoded.columns)"
   ]
  },
  {
   "cell_type": "code",
   "execution_count": null,
   "metadata": {},
   "outputs": [],
   "source": [
    "# Creating a correlation heatmap\n",
    "mask = np.zeros_like(Categorical_Correlation_Matrix, dtype=np.bool)\n",
    "mask[np.triu_indices_from(mask)] = True\n",
    "\n",
    "with sns.axes_style(\"white\"):\n",
    "    ax = sns.heatmap(Categorical_Correlation_Matrix, mask=mask,vmin=0., vmax=1, square=True)\n",
    "\n",
    "plt.show()"
   ]
  },
  {
   "cell_type": "code",
   "execution_count": null,
   "metadata": {},
   "outputs": [],
   "source": [
    "Categorical_data"
   ]
  }
 ],
 "metadata": {
  "kernelspec": {
   "display_name": "Python 3",
   "language": "python",
   "name": "python3"
  },
  "language_info": {
   "codemirror_mode": {
    "name": "ipython",
    "version": 3
   },
   "file_extension": ".py",
   "mimetype": "text/x-python",
   "name": "python",
   "nbconvert_exporter": "python",
   "pygments_lexer": "ipython3",
   "version": "3.8.5"
  }
 },
 "nbformat": 4,
 "nbformat_minor": 4
}
