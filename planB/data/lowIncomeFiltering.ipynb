{
 "cells": [
  {
   "cell_type": "code",
   "execution_count": 89,
   "metadata": {},
   "outputs": [],
   "source": [
    "import pandas as pd\n",
    "import numpy as np\n",
    "import matplotlib.pyplot as plt"
   ]
  },
  {
   "cell_type": "code",
   "execution_count": 90,
   "metadata": {},
   "outputs": [
    {
     "name": "stdout",
     "output_type": "stream",
     "text": [
      "Index(['Unnamed: 0', 'ACPRIMARY', 'BLD', 'COOKFUEL', 'DIVISION', 'FIREPLACE',\n",
      "       'HEATFUEL', 'HEATTYPE', 'HHRACE', 'HOTWATER', 'NUMELDERS', 'NUMYNGKIDS',\n",
      "       'NUMOLDKIDS', 'URBAN', 'SOLAR', 'TENURE', 'UNITSIZE', 'YRBUILT',\n",
      "       'HINCP', 'OTHERAMT', 'OILAMT', 'GASAMT', 'ELECAMT', 'NUMPEOPLE',\n",
      "       'HHAGE', 'METRO', 'BURDEN'],\n",
      "      dtype='object')\n"
     ]
    }
   ],
   "source": [
    "# Fill in the ellipses below\n",
    "\n",
    "# Read in data\n",
    "dataFrame = pd.read_csv('final_cleaned_data_age.csv')\n",
    "\n",
    "# Display the first 5 rows of the dataframe\n",
    "print(dataFrame.columns)"
   ]
  },
  {
   "cell_type": "code",
   "execution_count": 91,
   "metadata": {},
   "outputs": [],
   "source": [
    "def threshLowIncome(dataFrame):\n",
    "    dataFrame['NUMKIDS'] = dataFrame['NUMYNGKIDS'] + dataFrame['NUMOLDKIDS'] \n",
    "    dataFrame[\"POVTHRESH\"] =0\n",
    "\n",
    "    for i in range(len(dataFrame)):\n",
    "        if dataFrame[\"NUMKIDS\"][i] == 0:\n",
    "            if dataFrame[\"NUMPEOPLE\"][i] == 1:\n",
    "                if dataFrame[\"NUMELDERS\"][i] == 0:\n",
    "                    dataFrame.at[i, \"POVTHRESH\"] = 13300\n",
    "                else: \n",
    "                    dataFrame.at[i, \"POVTHRESH\"] = 12261\n",
    "            if dataFrame[\"NUMPEOPLE\"][i] == 2:\n",
    "                if dataFrame[\"NUMELDERS\"][i] == 0:\n",
    "                    dataFrame.at[i, \"POVTHRESH\"] = 17120\n",
    "                else: \n",
    "                    dataFrame.at[i, \"POVTHRESH\"] = 15453\n",
    "            if dataFrame[\"NUMPEOPLE\"][i] == 3:\n",
    "                dataFrame.at[i, \"POVTHRESH\"] = 19998\n",
    "            if dataFrame[\"NUMPEOPLE\"][i] == 4:\n",
    "                dataFrame.at[i, \"POVTHRESH\"] = 26370\n",
    "            if dataFrame[\"NUMPEOPLE\"][i] == 5:\n",
    "                dataFrame.at[i, \"POVTHRESH\"] = 31800\n",
    "            if dataFrame[\"NUMPEOPLE\"][i] == 6:\n",
    "                dataFrame.at[i, \"POVTHRESH\"] = 36576\n",
    "            if dataFrame[\"NUMPEOPLE\"][i] == 7:\n",
    "                dataFrame.at[i, \"POVTHRESH\"] = 42085\n",
    "            if dataFrame[\"NUMPEOPLE\"][i] == 8:\n",
    "                dataFrame.at[i, \"POVTHRESH\"] = 47069\n",
    "            if dataFrame[\"NUMPEOPLE\"][i] == 9:\n",
    "                dataFrame.at[i, \"POVTHRESH\"] = 56621\n",
    "                \n",
    "        if dataFrame[\"NUMKIDS\"][i] == 1:\n",
    "            if dataFrame[\"NUMPEOPLE\"][i] == 2:\n",
    "                if dataFrame[\"NUMELDERS\"][i] == 0:\n",
    "                    dataFrame.at[i, \"POVTHRESH\"] = 17622\n",
    "                else: \n",
    "                    dataFrame.at[i, \"POVTHRESH\"] = 17555\n",
    "            if dataFrame[\"NUMPEOPLE\"][i] == 3:\n",
    "                dataFrame.at[i, \"POVTHRESH\"] = 20578\n",
    "            if dataFrame[\"NUMPEOPLE\"][i] == 4:\n",
    "                dataFrame.at[i, \"POVTHRESH\"] = 26801\n",
    "            if dataFrame[\"NUMPEOPLE\"][i] == 5:\n",
    "                dataFrame.at[i, \"POVTHRESH\"] = 32263\n",
    "            if dataFrame[\"NUMPEOPLE\"][i] == 6:\n",
    "                dataFrame.at[i, \"POVTHRESH\"] = 36721\n",
    "            if dataFrame[\"NUMPEOPLE\"][i] == 7:\n",
    "                dataFrame.at[i, \"POVTHRESH\"] = 42348\n",
    "            if dataFrame[\"NUMPEOPLE\"][i] == 8:\n",
    "                dataFrame.at[i, \"POVTHRESH\"] = 47485\n",
    "            if dataFrame[\"NUMPEOPLE\"][i] == 9:\n",
    "                dataFrame.at[i, \"POVTHRESH\"] = 56895\n",
    "                \n",
    "        if dataFrame[\"NUMKIDS\"][i] == 2:\n",
    "            if dataFrame[\"NUMPEOPLE\"][i] == 3:\n",
    "                dataFrame.at[i, \"POVTHRESH\"] = 20598\n",
    "            if dataFrame[\"NUMPEOPLE\"][i] == 4:\n",
    "                dataFrame.at[i, \"POVTHRESH\"] = 25926\n",
    "            if dataFrame[\"NUMPEOPLE\"][i] == 5:\n",
    "                dataFrame.at[i, \"POVTHRESH\"] = 31275\n",
    "            if dataFrame[\"NUMPEOPLE\"][i] == 6:\n",
    "                dataFrame.at[i, \"POVTHRESH\"] = 35965\n",
    "            if dataFrame[\"NUMPEOPLE\"][i] == 7:\n",
    "                dataFrame.at[i, \"POVTHRESH\"] = 41442\n",
    "            if dataFrame[\"NUMPEOPLE\"][i] == 8:\n",
    "                dataFrame.at[i, \"POVTHRESH\"] = 46630\n",
    "            if dataFrame[\"NUMPEOPLE\"][i] == 9:\n",
    "                dataFrame.at[i, \"POVTHRESH\"] = 56139\n",
    "                \n",
    "        if dataFrame[\"NUMKIDS\"][i] == 3:\n",
    "            if dataFrame[\"NUMPEOPLE\"][i] == 4:\n",
    "                dataFrame.at[i, \"POVTHRESH\"] = 26017\n",
    "            if dataFrame[\"NUMPEOPLE\"][i] == 5:\n",
    "                dataFrame.at[i, \"POVTHRESH\"] = 30510\n",
    "            if dataFrame[\"NUMPEOPLE\"][i] == 6:\n",
    "                dataFrame.at[i, \"POVTHRESH\"] = 35239\n",
    "            if dataFrame[\"NUMPEOPLE\"][i] == 7:\n",
    "                dataFrame.at[i, \"POVTHRESH\"] = 40811\n",
    "            if dataFrame[\"NUMPEOPLE\"][i] == 8:\n",
    "                dataFrame.at[i, \"POVTHRESH\"] = 45881\n",
    "            if dataFrame[\"NUMPEOPLE\"][i] == 9:\n",
    "                dataFrame.at[i, \"POVTHRESH\"] = 55503\n",
    "                \n",
    "        if dataFrame[\"NUMKIDS\"][i] == 4:\n",
    "            if dataFrame[\"NUMPEOPLE\"][i] == 5:\n",
    "                dataFrame.at[i, \"POVTHRESH\"] = 30044\n",
    "            if dataFrame[\"NUMPEOPLE\"][i] == 6:\n",
    "                dataFrame.at[i, \"POVTHRESH\"] = 34161\n",
    "            if dataFrame[\"NUMPEOPLE\"][i] == 7:\n",
    "                dataFrame.at[i, \"POVTHRESH\"] = 39635\n",
    "            if dataFrame[\"NUMPEOPLE\"][i] == 8:\n",
    "                dataFrame.at[i, \"POVTHRESH\"] = 44818\n",
    "            if dataFrame[\"NUMPEOPLE\"][i] == 9:\n",
    "                dataFrame.at[i, \"POVTHRESH\"] = 54460\n",
    "                \n",
    "        if dataFrame[\"NUMKIDS\"][i] == 5:\n",
    "            if dataFrame[\"NUMPEOPLE\"][i] == 6:\n",
    "                dataFrame.at[i, \"POVTHRESH\"] = 33522\n",
    "            if dataFrame[\"NUMPEOPLE\"][i] == 7:\n",
    "                dataFrame.at[i, \"POVTHRESH\"] = 38262\n",
    "            if dataFrame[\"NUMPEOPLE\"][i] == 8:\n",
    "                dataFrame.at[i, \"POVTHRESH\"] = 43470\n",
    "            if dataFrame[\"NUMPEOPLE\"][i] == 9:\n",
    "                dataFrame.at[i, \"POVTHRESH\"] = 53025\n",
    "                \n",
    "        if dataFrame[\"NUMKIDS\"][i] == 6:\n",
    "            if dataFrame[\"NUMPEOPLE\"][i] == 7:\n",
    "                dataFrame.at[i, \"POVTHRESH\"] = 36757\n",
    "            if dataFrame[\"NUMPEOPLE\"][i] == 8:\n",
    "                dataFrame.at[i, \"POVTHRESH\"] = 42066\n",
    "            if dataFrame[\"NUMPEOPLE\"][i] == 9:\n",
    "                dataFrame.at[i, \"POVTHRESH\"] = 51727\n",
    "        \n",
    "        if dataFrame[\"NUMKIDS\"][i] == 7:\n",
    "            if dataFrame[\"NUMPEOPLE\"][i] == 8:\n",
    "                dataFrame.at[i, \"POVTHRESH\"] = 41709\n",
    "            if dataFrame[\"NUMPEOPLE\"][i] == 9:\n",
    "                dataFrame.at[i, \"POVTHRESH\"] = 51406\n",
    "                \n",
    "        if dataFrame[\"NUMKIDS\"][i] == 8:\n",
    "            dataFrame.at[i, \"POVTHRESH\"] = 49426\n",
    "    \n",
    "    dataFrame[\"LITHRESH\"] = 1.5*dataFrame[\"POVTHRESH\"]\n",
    "    \n",
    "    return dataFrame"
   ]
  },
  {
   "cell_type": "code",
   "execution_count": 92,
   "metadata": {},
   "outputs": [],
   "source": [
    "def filterLowIncome(dataFrame):\n",
    "    for i in range(len(dataFrame)):\n",
    "        if dataFrame[\"HINCP\"][i] >= dataFrame[\"LITHRESH\"][i]:\n",
    "            dataFrame = dataFrame.drop([i])\n",
    "    return dataFrame"
   ]
  },
  {
   "cell_type": "code",
   "execution_count": 93,
   "metadata": {},
   "outputs": [],
   "source": [
    "dataFrame = threshLowIncome(dataFrame)\n",
    "dataFrame = filterLowIncome(dataFrame)"
   ]
  },
  {
   "cell_type": "code",
   "execution_count": 95,
   "metadata": {},
   "outputs": [
    {
     "name": "stdout",
     "output_type": "stream",
     "text": [
      "3        20400.0\n",
      "4        14400.0\n",
      "13        8900.0\n",
      "17       29900.0\n",
      "22       25000.0\n",
      "          ...   \n",
      "44957        0.0\n",
      "44964    24000.0\n",
      "44974    26400.0\n",
      "44990     1400.0\n",
      "44993     4000.0\n",
      "Name: HINCP, Length: 8910, dtype: float64\n",
      "3        23179.5\n",
      "4        25680.0\n",
      "13       19950.0\n",
      "17       29997.0\n",
      "22       26433.0\n",
      "          ...   \n",
      "44957    19950.0\n",
      "44964    38889.0\n",
      "44974    29997.0\n",
      "44990    18391.5\n",
      "44993    18391.5\n",
      "Name: LITHRESH, Length: 8910, dtype: float64\n"
     ]
    }
   ],
   "source": [
    "print(dataFrame['HINCP'])\n",
    "print(dataFrame['LITHRESH'])"
   ]
  },
  {
   "cell_type": "code",
   "execution_count": 94,
   "metadata": {},
   "outputs": [],
   "source": [
    "dataFrame.to_csv('lowIncomeFilteredData.csv')"
   ]
  },
  {
   "cell_type": "code",
   "execution_count": null,
   "metadata": {},
   "outputs": [],
   "source": []
  }
 ],
 "metadata": {
  "kernelspec": {
   "display_name": "Python 3",
   "language": "python",
   "name": "python3"
  },
  "language_info": {
   "codemirror_mode": {
    "name": "ipython",
    "version": 3
   },
   "file_extension": ".py",
   "mimetype": "text/x-python",
   "name": "python",
   "nbconvert_exporter": "python",
   "pygments_lexer": "ipython3",
   "version": "3.8.3"
  }
 },
 "nbformat": 4,
 "nbformat_minor": 4
}
