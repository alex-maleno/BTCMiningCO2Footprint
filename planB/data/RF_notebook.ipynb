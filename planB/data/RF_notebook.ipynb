{
 "cells": [
  {
   "cell_type": "code",
   "execution_count": 10,
   "id": "65c831f6",
   "metadata": {},
   "outputs": [],
   "source": [
    "import pandas as pd\n",
    "import numpy as np\n",
    "import matplotlib.pyplot as plt\n",
    "from sklearn.preprocessing import OneHotEncoder\n",
    "from sklearn.ensemble import RandomForestRegressor\n",
    "from sklearn.model_selection import cross_val_score, train_test_split\n",
    "from sklearn.model_selection import RandomizedSearchCV\n",
    "from scipy.stats import randint\n",
    "from sklearn.inspection import permutation_importance\n",
    "from sklearn.metrics import mean_squared_error\n",
    "import shap\n",
    "\n",
    "data = pd.read_csv('final_cleaned_dummy_data.csv').drop(columns=['Unnamed: 0', 'index'])\n",
    "data_li = pd.read_csv('lowIncomeFilteredData.csv').drop(columns=['Unnamed: 0', 'Unnamed: 0.1'])"
   ]
  },
  {
   "cell_type": "markdown",
   "id": "e3524847",
   "metadata": {},
   "source": [
    "Creating Dummy Variables in Low Income Data, Dropping Burden Outliers, Instantiating MSE List"
   ]
  },
  {
   "cell_type": "code",
   "execution_count": 11,
   "id": "5e388b4b",
   "metadata": {},
   "outputs": [],
   "source": [
    "# use one hot encoding to convert categorical variables into series of binary variables\n",
    "non_binary_cat_vars = ['ACPRIMARY','BLD','COOKFUEL','DIVISION','HEATFUEL',\\\n",
    "                       'HEATTYPE','HHRACE','HOTWATER','TENURE']\n",
    "\n",
    "cat_df = data_li[non_binary_cat_vars].copy(deep=True)\n",
    "\n",
    "enc = OneHotEncoder()\n",
    "enc.fit(cat_df)\n",
    "onehotlabels = enc.transform(cat_df).toarray()\n",
    "one_hot_df = pd.DataFrame(onehotlabels, columns=enc.get_feature_names_out())\n",
    "\n",
    "# recombine dataframes\n",
    "final_data_li = pd.concat([one_hot_df,data_li.drop(columns=non_binary_cat_vars)], axis=1)\n",
    "\n",
    "data.drop(data.loc[data['HINCP']==0].index, inplace=True)\n",
    "\n",
    "data.drop(data.loc[data['BURDEN']>1.3068144].index, inplace=True)\n",
    "data.drop(data.loc[data['BURDEN']<=0].index, inplace=True)\n",
    "#data.drop(data.loc[data['BURDEN']<=0.0070588235].index, inplace=True) #5th percentile\n",
    "\n",
    "final_data_li.drop(final_data_li.loc[final_data_li['HINCP']==0].index, inplace=True)\n",
    "\n",
    "mses = [[0,0] for i in range(6)]"
   ]
  },
  {
   "cell_type": "markdown",
   "id": "8d4a6ea3",
   "metadata": {},
   "source": [
    "Run only one of the six cells below, depending on desired model configuration"
   ]
  },
  {
   "cell_type": "markdown",
   "id": "9c28dccb",
   "metadata": {},
   "source": [
    "Random Forest 1: Both Urban and Rural, All Income"
   ]
  },
  {
   "cell_type": "code",
   "execution_count": 1,
   "id": "82c840bb",
   "metadata": {},
   "outputs": [],
   "source": [
    "# select features, set target, split test set\n",
    "features_all = data.drop(columns=['HINCP','OTHERAMT','GASAMT','OILAMT',\\\n",
    "                                  'ELECAMT','NUMPEOPLE','METRO','BURDEN'])\n",
    "target = data['BURDEN']\n",
    "X, X_test, y, y_test = train_test_split(features_all, target, random_state = 1, test_size = .2)\n",
    "config = 1"
   ]
  },
  {
   "cell_type": "markdown",
   "id": "d5139f26",
   "metadata": {},
   "source": [
    "Random Forest 2: Urban, All Income"
   ]
  },
  {
   "cell_type": "code",
   "execution_count": null,
   "id": "c25a053d",
   "metadata": {},
   "outputs": [],
   "source": [
    "# select features, set target, split test set\n",
    "features_all_urban = data[data.URBAN==1].drop(columns=['HINCP','OTHERAMT','GASAMT','OILAMT','ELECAMT',\\\n",
    "                                                       'NUMPEOPLE','METRO','BURDEN','URBAN'])\n",
    "target = data[data.URBAN==1]['BURDEN']\n",
    "X, X_test, y, y_test = train_test_split(features_all_urban, target, random_state = 1, test_size = .2)\n",
    "config = 2"
   ]
  },
  {
   "cell_type": "markdown",
   "id": "1421d460",
   "metadata": {},
   "source": [
    "Random Forest 3: Rural, All Income"
   ]
  },
  {
   "cell_type": "code",
   "execution_count": 12,
   "id": "38d454e9",
   "metadata": {},
   "outputs": [],
   "source": [
    "# select features, set target, split test set\n",
    "features_all_rural = data[data.URBAN==0].drop(columns=['HINCP','OTHERAMT','GASAMT','OILAMT','ELECAMT',\\\n",
    "                                                       'NUMPEOPLE','METRO','BURDEN','URBAN'])\n",
    "target = data[data.URBAN==0]['BURDEN']\n",
    "X, X_test, y, y_test = train_test_split(features_all_rural, target, random_state = 1, test_size = .2)\n",
    "config = 3"
   ]
  },
  {
   "cell_type": "markdown",
   "id": "de79663c",
   "metadata": {},
   "source": [
    "Random Forest 4: Both Urban and Rural, Low Income"
   ]
  },
  {
   "cell_type": "code",
   "execution_count": null,
   "id": "996ddcc7",
   "metadata": {},
   "outputs": [],
   "source": [
    "# select features, set target, split test set\n",
    "features_all_li = final_data_li.drop(columns=['HINCP','OTHERAMT','GASAMT','OILAMT','ELECAMT','NUMPEOPLE',\\\n",
    "                                              'METRO','BURDEN','HHAGE','NUMKIDS', 'POVTHRESH', 'LITHRESH'])\n",
    "target = final_data_li['BURDEN']\n",
    "X, X_test, y, y_test = train_test_split(features_all_li, target, random_state = 1, test_size = .2)\n",
    "config = 4"
   ]
  },
  {
   "cell_type": "markdown",
   "id": "592b7427",
   "metadata": {},
   "source": [
    "Random Forest 5: Urban, Low Income"
   ]
  },
  {
   "cell_type": "code",
   "execution_count": null,
   "id": "c9775c35",
   "metadata": {},
   "outputs": [],
   "source": [
    "# select features, set target, split test set\n",
    "features_all_urban_li = final_data_li[final_data_li.URBAN==1]\\\n",
    "                        .drop(columns=['HINCP','OTHERAMT','GASAMT','OILAMT','ELECAMT','NUMPEOPLE',\\\n",
    "                                       'METRO','BURDEN','HHAGE','NUMKIDS', 'POVTHRESH', 'LITHRESH','URBAN'])\n",
    "target = final_data_li[final_data_li.URBAN==1]['BURDEN']\n",
    "X, X_test, y, y_test = train_test_split(features_all_urban_li, target, random_state = 1, test_size = .2)\n",
    "config = 5"
   ]
  },
  {
   "cell_type": "markdown",
   "id": "373d9bec",
   "metadata": {},
   "source": [
    "Random Forest 6: Rural, Low Income"
   ]
  },
  {
   "cell_type": "code",
   "execution_count": null,
   "id": "a735784d",
   "metadata": {},
   "outputs": [],
   "source": [
    "# select features, set target, split test set\n",
    "features_all_rural_li = final_data_li[final_data_li.URBAN==0]\\\n",
    "                        .drop(columns=['HINCP','OTHERAMT','GASAMT','OILAMT','ELECAMT','NUMPEOPLE',\\\n",
    "                                       'METRO','BURDEN','HHAGE','NUMKIDS', 'POVTHRESH', 'LITHRESH','URBAN'])\n",
    "target = final_data_li[final_data_li.URBAN==0]['BURDEN']\n",
    "X, X_test, y, y_test = train_test_split(features_all_rural_li, target, random_state = 1, test_size = .2)\n",
    "config = 6"
   ]
  },
  {
   "cell_type": "markdown",
   "id": "73a00bd6",
   "metadata": {},
   "source": [
    "After running one of the six cells above to choose features and output, continue below."
   ]
  },
  {
   "cell_type": "code",
   "execution_count": 13,
   "id": "860ed7e5",
   "metadata": {},
   "outputs": [],
   "source": [
    "# split between train and validation sets\n",
    "X_train, X_val, y_train, y_val = train_test_split(X, y, random_state = 1, test_size = 0.2)\n",
    "\n",
    "# instantiate random forest regressor\n",
    "rf_tree = RandomForestRegressor()\n",
    "rf_tree.fit(X_train, y_train)\n",
    "\n",
    "# set parameter distribution for random search CV\n",
    "\n",
    "# param_dist_rf = {'n_estimators': randint(10, 100),\n",
    "#               'max_leaf_nodes': randint(3, 100),\n",
    "#               'max_features': [\"auto\"],\n",
    "#               'max_depth': randint(1, 10),\n",
    "#               'min_samples_leaf': randint(1, 30),\n",
    "#               'min_samples_split': randint(2, 20)}\n",
    "param_dist_rf = {'n_estimators': randint(1, 2500),\n",
    "              'max_leaf_nodes': randint(3, 200),\n",
    "              'max_features': [\"auto\"],\n",
    "              'max_depth': randint(1, 50),\n",
    "              'min_samples_leaf': randint(1, 40),\n",
    "              'min_samples_split': randint(2, 40)}"
   ]
  },
  {
   "cell_type": "markdown",
   "id": "99134a63",
   "metadata": {},
   "source": [
    "The following cell will take the longest to run. If it takes too long, alter params above or n_iter keyword in the RandomizedSearchCV() call."
   ]
  },
  {
   "cell_type": "code",
   "execution_count": 14,
   "id": "67a435f8",
   "metadata": {},
   "outputs": [
    {
     "name": "stdout",
     "output_type": "stream",
     "text": [
      "{'max_depth': 22, 'max_features': 'auto', 'max_leaf_nodes': 30, 'min_samples_leaf': 36, 'min_samples_split': 27, 'n_estimators': 947}\n",
      "Train Score:  0.8393450085119805\n",
      "Validation Score:  -0.05389234992093472\n"
     ]
    }
   ],
   "source": [
    "rnd_search_rf = RandomizedSearchCV(rf_tree, param_distributions=param_dist_rf, cv=10, n_iter=1)\n",
    "# default n_iter = 200 for data lab\n",
    "\n",
    "rnd_search_rf.fit(X_train, y_train)\n",
    "\n",
    "print(rnd_search_rf.best_params_)\n",
    "\n",
    "# fit tree with best parameters\n",
    "rf_tree.set_params(max_leaf_nodes=rnd_search_rf.best_params_['max_leaf_nodes'], \n",
    "                    n_estimators=rnd_search_rf.best_params_['n_estimators'], \n",
    "                    max_features = rnd_search_rf.best_params_['max_features'],\n",
    "                    max_depth = rnd_search_rf.best_params_['max_depth'],\n",
    "                    min_samples_leaf = rnd_search_rf.best_params_['min_samples_leaf'],\n",
    "                    min_samples_split = rnd_search_rf.best_params_['min_samples_split'])\n",
    "\n",
    "# These scores carry no meaning for the random forest regressor, but will still print out\n",
    "rf_train_score = rf_tree.score(X_train, y_train)\n",
    "rf_val_score = rf_tree.score(X_val, y_val)\n",
    "print('Train Score: ', rf_train_score)\n",
    "print('Validation Score: ', rf_val_score)"
   ]
  },
  {
   "cell_type": "markdown",
   "id": "5a352092",
   "metadata": {},
   "source": [
    "Built-In Feature Importance"
   ]
  },
  {
   "cell_type": "code",
   "execution_count": 15,
   "id": "fe86a4d8",
   "metadata": {},
   "outputs": [
    {
     "name": "stdout",
     "output_type": "stream",
     "text": [
      "Feature ranking:\n",
      "0. UNITSIZE (0.123435)\n",
      "1. YRBUILT (0.117946)\n",
      "2. FIREPLACE (0.045329)\n",
      "3. NUMELDERS (0.044058)\n",
      "4. ACPRIMARY_0 (0.028651)\n",
      "5. NUMOLDKIDS (0.027678)\n",
      "6. DIVISION_7 (0.027173)\n",
      "7. DIVISION_4 (0.026601)\n",
      "8. BLD_1 (0.025344)\n",
      "9. ACPRIMARY_1 (0.022975)\n",
      "10. HEATFUEL_3 (0.020645)\n",
      "11. HEATTYPE_3 (0.020028)\n",
      "12. DIVISION_5 (0.019665)\n",
      "13. DIVISION_2 (0.018980)\n",
      "14. TENURE_1.0 (0.018501)\n",
      "15. HOTWATER_3 (0.017577)\n",
      "16. HEATFUEL_2 (0.016209)\n",
      "17. DIVISION_8 (0.015124)\n",
      "18. DIVISION_3 (0.014698)\n",
      "19. HEATTYPE_1 (0.014522)\n",
      "20. COOKFUEL_2 (0.014195)\n",
      "21. HHRACE_2.0 (0.014018)\n",
      "22. ACPRIMARY_5 (0.013843)\n",
      "23. BLD_8 (0.013198)\n",
      "24. COOKFUEL_1 (0.013046)\n",
      "25. HOTWATER_2 (0.012753)\n",
      "26. COOKFUEL_3 (0.012715)\n",
      "27. HOTWATER_1 (0.012519)\n",
      "28. HEATFUEL_7 (0.012373)\n",
      "29. HEATTYPE_8 (0.012124)\n",
      "30. DIVISION_6 (0.011882)\n",
      "31. HOTWATER_4 (0.011744)\n",
      "32. BLD_2 (0.011548)\n",
      "33. ACPRIMARY_4 (0.010628)\n",
      "34. ACPRIMARY_6 (0.009968)\n",
      "35. HEATFUEL_4 (0.009824)\n",
      "36. HEATFUEL_1 (0.009165)\n",
      "37. HHRACE_6.0 (0.008965)\n",
      "38. NUMYNGKIDS (0.008839)\n",
      "39. DIVISION_9 (0.008740)\n",
      "40. HEATTYPE_7 (0.008642)\n",
      "41. TENURE_0.0 (0.008621)\n",
      "42. BLD_4 (0.008313)\n",
      "43. HHRACE_1.0 (0.007982)\n",
      "44. HEATTYPE_4 (0.007288)\n",
      "45. HOTWATER_0 (0.007118)\n",
      "46. ACPRIMARY_2 (0.006621)\n",
      "47. TENURE_2.0 (0.006522)\n",
      "48. DIVISION_1 (0.005341)\n",
      "49. HEATTYPE_5 (0.005191)\n",
      "50. HEATTYPE_2 (0.004213)\n",
      "51. BLD_5 (0.004065)\n",
      "52. HEATTYPE_6 (0.003561)\n",
      "53. BLD_7 (0.002905)\n",
      "54. HEATFUEL_5 (0.002763)\n",
      "55. SOLAR (0.002066)\n",
      "56. ACPRIMARY_7 (0.001964)\n",
      "57. BLD_6 (0.001838)\n",
      "58. HHRACE_3.0 (0.001766)\n",
      "59. HEATTYPE_9 (0.001436)\n",
      "60. BLD_3 (0.001185)\n",
      "61. HEATTYPE_12 (0.000567)\n",
      "62. HEATFUEL_6 (0.000567)\n",
      "63. COOKFUEL_4 (0.000393)\n",
      "64. BLD_9 (0.000380)\n",
      "65. HHRACE_4.0 (0.000342)\n",
      "66. HEATFUEL_0 (0.000252)\n",
      "67. HEATTYPE_0 (0.000249)\n",
      "68. ACPRIMARY_3 (0.000178)\n",
      "69. HEATTYPE_10 (0.000132)\n",
      "70. HEATFUEL_9 (0.000118)\n",
      "71. HOTWATER_6 (0.000068)\n",
      "72. HEATTYPE_13 (0.000043)\n",
      "73. HHRACE_5.0 (0.000041)\n",
      "74. COOKFUEL_0 (0.000028)\n",
      "75. HOTWATER_5 (0.000017)\n",
      "76. HEATTYPE_11 (0.000001)\n",
      "77. HEATFUEL_8 (0.000000)\n"
     ]
    },
    {
     "data": {
      "text/plain": [
       "<Figure size 432x288 with 0 Axes>"
      ]
     },
     "metadata": {},
     "output_type": "display_data"
    }
   ],
   "source": [
    "importances = rf_tree.feature_importances_\n",
    "std = np.std([tree.feature_importances_ for tree in rf_tree.estimators_],\n",
    "              axis=0)\n",
    "indices = np.argsort(importances)[::-1]\n",
    "\n",
    "# Print the feature ranking\n",
    "print(\"Feature ranking:\")\n",
    "\n",
    "feat_imp = []\n",
    "for f in range(X.shape[1]):\n",
    "    print(\"%d. %s (%f)\" % (f, X.columns[indices[f]], importances[indices[f]]))\n",
    "    feat_imp.append((X.columns[indices[f]], importances[indices[f]]))\n",
    "    \n",
    "feat_df = pd.DataFrame(feat_imp, columns=['Feature','Importance'])\n",
    "feat_df.set_index('Feature',inplace=True)\n",
    "feat_df.to_csv('rf_out/feat_importance/built_in_importances_{}.csv'.format(str(config)))\n",
    "feat_df = feat_df.T\n",
    "\n",
    "# Plot the feature importances of the forest\n",
    "plt.figure()\n",
    "plt.title(\"Feature Importances\")\n",
    "plt.bar(range(X.shape[1]), importances[indices],\n",
    "        color=\"r\", yerr=std[indices], align=\"center\")\n",
    "plt.savefig('rf_out/figs/feat_imp/built_in_feature_importance_{}.png'.format(str(config)),dpi=300)\n",
    "plt.clf()"
   ]
  },
  {
   "cell_type": "markdown",
   "id": "1691b13d",
   "metadata": {},
   "source": [
    "Residuals"
   ]
  },
  {
   "cell_type": "code",
   "execution_count": 16,
   "id": "ccd93c08",
   "metadata": {},
   "outputs": [
    {
     "data": {
      "text/plain": [
       "<Figure size 432x288 with 0 Axes>"
      ]
     },
     "metadata": {},
     "output_type": "display_data"
    }
   ],
   "source": [
    "resid_df = pd.DataFrame(y-rf_tree.predict(X))\n",
    "resid_df.to_csv('rf_out/residuals/residuals_{}.csv'.format(str(config)))\n",
    "plt.scatter(np.arange(len(y)),y-rf_tree.predict(X))\n",
    "plt.savefig('rf_out/residuals/figs/residuals_{}.png'.format(str(config)),dpi=300)\n",
    "plt.clf()\n",
    "plt.scatter(np.arange(3180),np.sort(y-rf_tree.predict(X)))\n",
    "plt.savefig('rf_out/residuals/figs/residuals_sorted_{}.png'.format(str(config)),dpi=300)\n",
    "plt.clf()"
   ]
  },
  {
   "cell_type": "markdown",
   "id": "94473b68",
   "metadata": {},
   "source": [
    "Permutation Importance (may take a long time to run)"
   ]
  },
  {
   "cell_type": "code",
   "execution_count": 51,
   "id": "a4dd1134",
   "metadata": {},
   "outputs": [
    {
     "data": {
      "image/png": "[encoded data removed]",
      "text/plain": [
       "<Figure size 640x480 with 1 Axes>"
      ]
     },
     "metadata": {},
     "output_type": "display_data"
    }
   ],
   "source": [
    "plt.rcParams.update(plt.rcParamsDefault)\n",
    "plt.rcParams['font.size'] = 3\n",
    "perm_importance = permutation_importance(rf_tree, X_test, y_test)\n",
    "sorted_idx = perm_importance.importances_mean.argsort()\n",
    "perm_df = pd.DataFrame(perm_importance.importances_mean[sorted_idx], index=X.columns[sorted_idx])\n",
    "perm_df.to_csv('rf_out/feat_importance/permutation_importance_{}.csv'.format(str(config)))\n",
    "plt.barh(X.columns[sorted_idx], perm_importance.importances_mean[sorted_idx])\n",
    "plt.xlabel(\"Permutation Importance\")\n",
    "plt.savefig('rf_out/figs/feat_imp/permutation_importance/permutation_importance_{}.png'\\\n",
    "                .format(str(config)),dpi=300)\n",
    "plt.rcParams.update(plt.rcParamsDefault)"
   ]
  },
  {
   "cell_type": "markdown",
   "id": "68e8d3d7",
   "metadata": {},
   "source": [
    "Shapley Values (may take a long time to run)"
   ]
  },
  {
   "cell_type": "code",
   "execution_count": 46,
   "id": "5e330edf",
   "metadata": {},
   "outputs": [
    {
     "data": {
      "image/png": "[encoded data removed]",
      "text/plain": [
       "<Figure size 576x684 with 2 Axes>"
      ]
     },
     "metadata": {
      "needs_background": "light"
     },
     "output_type": "display_data"
    }
   ],
   "source": [
    "explainer = shap.TreeExplainer(rf_tree)\n",
    "shap_values = explainer.shap_values(X_test)\n",
    "shap_abs = np.abs(shap_values)\n",
    "shap_df = pd.DataFrame(shap_abs.mean(axis=0),columns=['Shapley Value'])\n",
    "shap_df.sort_values(by='Shapley Value',ascending=False, inplace=True)\n",
    "shap_df.to_csv('rf_out/feat_importance/shapley_{}.csv'.format(str(config)))\n",
    "shap.summary_plot(shap_values, X_test, plot_type=\"bar\",show=False)\n",
    "plt.savefig('rf_out/figs/feat_imp/shapley/shapley_bar_{}.png'\\\n",
    "                .format(str(config)),dpi=300, bbox_inches='tight')\n",
    "plt.clf()\n",
    "shap.summary_plot(shap_values, X_test,show=False)\n",
    "plt.savefig('rf_out/figs/feat_imp/shapley/shapley_jitter_{}.png'\\\n",
    "                .format(str(config)),dpi=300, bbox_inches='tight')"
   ]
  },
  {
   "cell_type": "markdown",
   "id": "9de90937",
   "metadata": {},
   "source": [
    "Mean Squared Error (after running this cell, go back and rerun a new configuration until all 6 are run)"
   ]
  },
  {
   "cell_type": "code",
   "execution_count": 19,
   "id": "7f8ceb55",
   "metadata": {},
   "outputs": [
    {
     "name": "stdout",
     "output_type": "stream",
     "text": [
      "Test MSE is: 0.01585877006435183\n",
      "Val MSE is: 0.014081077701046371\n"
     ]
    }
   ],
   "source": [
    "mse_test = mean_squared_error(y_test,rf_tree.predict(X_test))\n",
    "mse_val = mean_squared_error(y_val,rf_tree.predict(X_val))\n",
    "print('Test MSE is:',mse_test)\n",
    "print('Val MSE is:',mse_val)\n",
    "\n",
    "mses[config-1][0] = mse_test\n",
    "mses[config-1][1] = mse_val"
   ]
  },
  {
   "cell_type": "code",
   "execution_count": null,
   "id": "db799d50",
   "metadata": {},
   "outputs": [],
   "source": [
    "# When all 6 configurations are finished, run this cell to output the MSEs\n",
    "mse_df = pd.DataFrame(mses, index=['Config 1','Config 2','Config 3','Config 4','Config 5','Config 6'],\\\n",
    "                     columns=['Test MSE','Val MSE'])\n",
    "mse_df.to_csv('rf_out/mses.csv')"
   ]
  }
 ],
 "metadata": {
  "kernelspec": {
   "display_name": "Python 3 (ipykernel)",
   "language": "python",
   "name": "python3"
  },
  "language_info": {
   "codemirror_mode": {
    "name": "ipython",
    "version": 3
   },
   "file_extension": ".py",
   "mimetype": "text/x-python",
   "name": "python",
   "nbconvert_exporter": "python",
   "pygments_lexer": "ipython3",
   "version": "3.8.8"
  }
 },
 "nbformat": 4,
 "nbformat_minor": 5
}
